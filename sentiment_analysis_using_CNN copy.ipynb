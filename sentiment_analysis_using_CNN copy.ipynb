{
 "cells": [
  {
   "cell_type": "markdown",
   "metadata": {
    "_uuid": "89acce557b54ba7cb0ebf85fb3bf22d9e95868a6"
   },
   "source": [
    "### Importing the modules."
   ]
  },
  {
   "cell_type": "code",
   "execution_count": 1,
   "metadata": {
    "_uuid": "739312197e54166212116baab4af1d81fb4e9ccb",
    "execution": {
     "iopub.execute_input": "2022-08-20T10:39:07.446374Z",
     "iopub.status.busy": "2022-08-20T10:39:07.446073Z",
     "iopub.status.idle": "2022-08-20T10:39:12.205900Z",
     "shell.execute_reply": "2022-08-20T10:39:12.205043Z",
     "shell.execute_reply.started": "2022-08-20T10:39:07.446321Z"
    },
    "id": "u4Qoy1EB5hmJ",
    "outputId": "9fc57d33-b6cc-45c1-c4ec-24394bb61544"
   },
   "outputs": [
    {
     "name": "stderr",
     "output_type": "stream",
     "text": [
      "[nltk_data] Downloading package punkt to\n",
      "[nltk_data]     C:\\Users\\itn.heydar.alvaro\\AppData\\Roaming\\nltk_data..\n",
      "[nltk_data]     .\n",
      "[nltk_data]   Package punkt is already up-to-date!\n",
      "[nltk_data] Downloading package stopwords to\n",
      "[nltk_data]     C:\\Users\\itn.heydar.alvaro\\AppData\\Roaming\\nltk_data..\n",
      "[nltk_data]     .\n",
      "[nltk_data]   Package stopwords is already up-to-date!\n",
      "[nltk_data] Downloading package wordnet to\n",
      "[nltk_data]     C:\\Users\\itn.heydar.alvaro\\AppData\\Roaming\\nltk_data..\n",
      "[nltk_data]     .\n",
      "[nltk_data]   Package wordnet is already up-to-date!\n"
     ]
    }
   ],
   "source": [
    "# Ignore warnings\n",
    "import warnings\n",
    "warnings.filterwarnings('ignore')\n",
    "\n",
    "# Data visualisation and manipulation\n",
    "import numpy as np\n",
    "import pandas as pd\n",
    "import matplotlib.pyplot as plt\n",
    "from matplotlib import style\n",
    "import seaborn as sns\n",
    "import nltk\n",
    "nltk.download('punkt')\n",
    "nltk.download('stopwords')\n",
    "nltk.download('wordnet')\n",
    "\n",
    "# Configure matplotlib and seaborn\n",
    "style.use('fivethirtyeight')\n",
    "sns.set(style='whitegrid', color_codes=True)\n",
    "\n",
    "# NLTK\n",
    "import nltk\n",
    "from nltk.corpus import stopwords\n",
    "from nltk import word_tokenize, sent_tokenize, pos_tag, ne_chunk\n",
    "from nltk.stem import PorterStemmer, LancasterStemmer, SnowballStemmer, WordNetLemmatizer\n",
    "\n",
    "# Sklearn vectorizers\n",
    "from sklearn.feature_extraction.text import TfidfVectorizer, CountVectorizer\n",
    "\n",
    "# BeautifulSoup\n",
    "from bs4 import BeautifulSoup\n",
    "\n",
    "# Regex\n",
    "import re\n",
    "\n",
    "# Model selection\n",
    "from sklearn.model_selection import train_test_split, cross_validate, KFold, GridSearchCV\n",
    "\n",
    "# Evaluation\n",
    "from sklearn.metrics import accuracy_score, roc_auc_score, classification_report\n",
    "from mlxtend.plotting import plot_confusion_matrix\n",
    "\n",
    "# Preprocessing (sklearn)\n",
    "from sklearn.preprocessing import MinMaxScaler, StandardScaler, LabelEncoder\n",
    "from sklearn.impute import SimpleImputer\n",
    "\n",
    "# Classification algorithms\n",
    "from sklearn.linear_model import LogisticRegression\n",
    "from sklearn.svm import LinearSVC, SVC\n",
    "from sklearn.neighbors import KNeighborsClassifier\n",
    "from sklearn.ensemble import RandomForestClassifier, GradientBoostingClassifier, AdaBoostClassifier\n",
    "from sklearn.tree import DecisionTreeClassifier\n",
    "from sklearn.naive_bayes import GaussianNB, MultinomialNB\n",
    "from sklearn.metrics import confusion_matrix, classification_report\n",
    "from sklearn.metrics import precision_score, recall_score, f1_score, accuracy_score\n",
    "from sklearn.model_selection import train_test_split\n",
    "\n",
    "# Stop words and lemmatizer (instantiate once to reuse inside clean function)\n",
    "stop_words = set(stopwords.words('english'))\n",
    "le = WordNetLemmatizer()\n",
    "\n",
    "# TensorFlow / Keras\n",
    "import tensorflow as tf\n",
    "from tensorflow.keras.preprocessing.text import one_hot, Tokenizer, text_to_word_sequence\n",
    "from tensorflow.keras.preprocessing.sequence import pad_sequences\n",
    "from tensorflow.keras.models import Sequential, Model\n",
    "from tensorflow.keras.layers import Dense, Flatten, Embedding, Input, LSTM, ReLU, Dropout, Conv1D, GlobalMaxPooling1D\n",
    "from tensorflow.keras.initializers import Constant\n",
    "from tensorflow.keras.preprocessing.sequence import pad_sequences\n",
    "\n",
    "\n",
    "# Note: CuDNNLSTM is deprecated in TF 2.x, use LSTM with default settings\n",
    "\n",
    "# Gensim Word2Vec\n",
    "from gensim.models import FastText\n",
    "import gensim, multiprocessing"
   ]
  },
  {
   "cell_type": "code",
   "execution_count": 2,
   "metadata": {},
   "outputs": [
    {
     "name": "stderr",
     "output_type": "stream",
     "text": [
      "[nltk_data] Downloading package punkt to\n",
      "[nltk_data]     C:\\Users\\itn.heydar.alvaro\\AppData\\Roaming\\nltk_data..\n",
      "[nltk_data]     .\n",
      "[nltk_data]   Package punkt is already up-to-date!\n"
     ]
    },
    {
     "data": {
      "text/plain": [
       "True"
      ]
     },
     "execution_count": 2,
     "metadata": {},
     "output_type": "execute_result"
    }
   ],
   "source": [
    "import nltk\n",
    "nltk.download('punkt')"
   ]
  },
  {
   "cell_type": "markdown",
   "metadata": {
    "_uuid": "cff40d5497523fa8a1815323f6684c66fc1d008e"
   },
   "source": [
    "### LOADING THE DATASET"
   ]
  },
  {
   "cell_type": "code",
   "execution_count": 3,
   "metadata": {
    "_uuid": "1abe90648e9f876e84a5ca74717e373d9877c9ab",
    "execution": {
     "iopub.execute_input": "2022-08-20T10:39:12.209681Z",
     "iopub.status.busy": "2022-08-20T10:39:12.209437Z",
     "iopub.status.idle": "2022-08-20T10:39:19.366307Z",
     "shell.execute_reply": "2022-08-20T10:39:19.365398Z",
     "shell.execute_reply.started": "2022-08-20T10:39:12.209635Z"
    },
    "id": "PxRv4O4w6ELq"
   },
   "outputs": [],
   "source": [
    "rev_frame=pd.read_csv(r'Reviews.csv')\n",
    "df=rev_frame.copy()"
   ]
  },
  {
   "cell_type": "code",
   "execution_count": 4,
   "metadata": {
    "_uuid": "7814bbb9e96368171a34663280d4dac827d27a37",
    "execution": {
     "iopub.execute_input": "2022-08-20T10:39:19.367961Z",
     "iopub.status.busy": "2022-08-20T10:39:19.367675Z",
     "iopub.status.idle": "2022-08-20T10:39:19.413767Z",
     "shell.execute_reply": "2022-08-20T10:39:19.412758Z",
     "shell.execute_reply.started": "2022-08-20T10:39:19.367899Z"
    },
    "id": "QiKI5fM664D9",
    "outputId": "2129c76c-53cb-4c43-9a47-15896f90052f"
   },
   "outputs": [
    {
     "data": {
      "text/html": [
       "<div>\n",
       "<style scoped>\n",
       "    .dataframe tbody tr th:only-of-type {\n",
       "        vertical-align: middle;\n",
       "    }\n",
       "\n",
       "    .dataframe tbody tr th {\n",
       "        vertical-align: top;\n",
       "    }\n",
       "\n",
       "    .dataframe thead th {\n",
       "        text-align: right;\n",
       "    }\n",
       "</style>\n",
       "<table border=\"1\" class=\"dataframe\">\n",
       "  <thead>\n",
       "    <tr style=\"text-align: right;\">\n",
       "      <th></th>\n",
       "      <th>Id</th>\n",
       "      <th>ProductId</th>\n",
       "      <th>UserId</th>\n",
       "      <th>ProfileName</th>\n",
       "      <th>HelpfulnessNumerator</th>\n",
       "      <th>HelpfulnessDenominator</th>\n",
       "      <th>Score</th>\n",
       "      <th>Time</th>\n",
       "      <th>Summary</th>\n",
       "      <th>Text</th>\n",
       "    </tr>\n",
       "  </thead>\n",
       "  <tbody>\n",
       "    <tr>\n",
       "      <th>0</th>\n",
       "      <td>1</td>\n",
       "      <td>B001E4KFG0</td>\n",
       "      <td>A3SGXH7AUHU8GW</td>\n",
       "      <td>delmartian</td>\n",
       "      <td>1</td>\n",
       "      <td>1</td>\n",
       "      <td>5</td>\n",
       "      <td>1303862400</td>\n",
       "      <td>Good Quality Dog Food</td>\n",
       "      <td>I have bought several of the Vitality canned d...</td>\n",
       "    </tr>\n",
       "    <tr>\n",
       "      <th>1</th>\n",
       "      <td>2</td>\n",
       "      <td>B00813GRG4</td>\n",
       "      <td>A1D87F6ZCVE5NK</td>\n",
       "      <td>dll pa</td>\n",
       "      <td>0</td>\n",
       "      <td>0</td>\n",
       "      <td>1</td>\n",
       "      <td>1346976000</td>\n",
       "      <td>Not as Advertised</td>\n",
       "      <td>Product arrived labeled as Jumbo Salted Peanut...</td>\n",
       "    </tr>\n",
       "    <tr>\n",
       "      <th>2</th>\n",
       "      <td>3</td>\n",
       "      <td>B000LQOCH0</td>\n",
       "      <td>ABXLMWJIXXAIN</td>\n",
       "      <td>Natalia Corres \"Natalia Corres\"</td>\n",
       "      <td>1</td>\n",
       "      <td>1</td>\n",
       "      <td>4</td>\n",
       "      <td>1219017600</td>\n",
       "      <td>\"Delight\" says it all</td>\n",
       "      <td>This is a confection that has been around a fe...</td>\n",
       "    </tr>\n",
       "    <tr>\n",
       "      <th>3</th>\n",
       "      <td>4</td>\n",
       "      <td>B000UA0QIQ</td>\n",
       "      <td>A395BORC6FGVXV</td>\n",
       "      <td>Karl</td>\n",
       "      <td>3</td>\n",
       "      <td>3</td>\n",
       "      <td>2</td>\n",
       "      <td>1307923200</td>\n",
       "      <td>Cough Medicine</td>\n",
       "      <td>If you are looking for the secret ingredient i...</td>\n",
       "    </tr>\n",
       "    <tr>\n",
       "      <th>4</th>\n",
       "      <td>5</td>\n",
       "      <td>B006K2ZZ7K</td>\n",
       "      <td>A1UQRSCLF8GW1T</td>\n",
       "      <td>Michael D. Bigham \"M. Wassir\"</td>\n",
       "      <td>0</td>\n",
       "      <td>0</td>\n",
       "      <td>5</td>\n",
       "      <td>1350777600</td>\n",
       "      <td>Great taffy</td>\n",
       "      <td>Great taffy at a great price.  There was a wid...</td>\n",
       "    </tr>\n",
       "  </tbody>\n",
       "</table>\n",
       "</div>"
      ],
      "text/plain": [
       "   Id   ProductId          UserId                      ProfileName  \\\n",
       "0   1  B001E4KFG0  A3SGXH7AUHU8GW                       delmartian   \n",
       "1   2  B00813GRG4  A1D87F6ZCVE5NK                           dll pa   \n",
       "2   3  B000LQOCH0   ABXLMWJIXXAIN  Natalia Corres \"Natalia Corres\"   \n",
       "3   4  B000UA0QIQ  A395BORC6FGVXV                             Karl   \n",
       "4   5  B006K2ZZ7K  A1UQRSCLF8GW1T    Michael D. Bigham \"M. Wassir\"   \n",
       "\n",
       "   HelpfulnessNumerator  HelpfulnessDenominator  Score        Time  \\\n",
       "0                     1                       1      5  1303862400   \n",
       "1                     0                       0      1  1346976000   \n",
       "2                     1                       1      4  1219017600   \n",
       "3                     3                       3      2  1307923200   \n",
       "4                     0                       0      5  1350777600   \n",
       "\n",
       "                 Summary                                               Text  \n",
       "0  Good Quality Dog Food  I have bought several of the Vitality canned d...  \n",
       "1      Not as Advertised  Product arrived labeled as Jumbo Salted Peanut...  \n",
       "2  \"Delight\" says it all  This is a confection that has been around a fe...  \n",
       "3         Cough Medicine  If you are looking for the secret ingredient i...  \n",
       "4            Great taffy  Great taffy at a great price.  There was a wid...  "
      ]
     },
     "execution_count": 4,
     "metadata": {},
     "output_type": "execute_result"
    }
   ],
   "source": [
    "df.head()"
   ]
  },
  {
   "cell_type": "markdown",
   "metadata": {
    "_uuid": "f0a9b516821934fff9510beb08e38f854c1204a9"
   },
   "source": [
    "#### A brief description of the dataset from Overview tab on Kaggle : -\n",
    "\n",
    "The data includes:\n",
    "- Reviews from Oct 1999 - Oct 2012\n",
    "- 568,454 reviews\n",
    "- 256,059 users\n",
    "- 74,258 products\n",
    "- 260 users with > 50 reviews"
   ]
  },
  {
   "cell_type": "markdown",
   "metadata": {
    "_uuid": "4a92034bd40cb8f1f2e3adf17711001d1d8978da",
    "id": "3Cqvk7IpDsqI"
   },
   "source": [
    "### DATA CLEANING AND PRE-PROCESSING"
   ]
  },
  {
   "cell_type": "markdown",
   "metadata": {
    "_uuid": "8942ed66c74519fe2d4dcb54d144f66e2b45b675"
   },
   "source": [
    "#### Since here I am concerned with sentiment analysis I shall keep only the 'Text' and the 'Score' column."
   ]
  },
  {
   "cell_type": "code",
   "execution_count": 5,
   "metadata": {
    "_uuid": "e6d5d863d0efb7bc29ba4f1a2fb51f1e3917e248",
    "execution": {
     "iopub.execute_input": "2022-08-20T10:39:19.416013Z",
     "iopub.status.busy": "2022-08-20T10:39:19.415419Z",
     "iopub.status.idle": "2022-08-20T10:39:19.436601Z",
     "shell.execute_reply": "2022-08-20T10:39:19.436010Z",
     "shell.execute_reply.started": "2022-08-20T10:39:19.415753Z"
    },
    "id": "04Lhx1IhD4MK"
   },
   "outputs": [],
   "source": [
    "df=df[['Text','Score']]"
   ]
  },
  {
   "cell_type": "code",
   "execution_count": 6,
   "metadata": {
    "_uuid": "9a80c3ae0e318bb9a95071f8aef3205aac25d1e3",
    "execution": {
     "iopub.execute_input": "2022-08-20T10:39:19.439703Z",
     "iopub.status.busy": "2022-08-20T10:39:19.439484Z",
     "iopub.status.idle": "2022-08-20T10:39:19.649445Z",
     "shell.execute_reply": "2022-08-20T10:39:19.648640Z",
     "shell.execute_reply.started": "2022-08-20T10:39:19.439659Z"
    },
    "id": "fD_pd159D8Yt"
   },
   "outputs": [],
   "source": [
    "df['review']=df['Text']\n",
    "df['rating']=df['Score']\n",
    "df.drop(['Text','Score'],axis=1,inplace=True)\n"
   ]
  },
  {
   "cell_type": "code",
   "execution_count": 7,
   "metadata": {
    "_uuid": "a7e69cc4da9b9b42a1b09556526ad82b0d16a506",
    "execution": {
     "iopub.execute_input": "2022-08-20T10:39:19.651226Z",
     "iopub.status.busy": "2022-08-20T10:39:19.650758Z",
     "iopub.status.idle": "2022-08-20T10:39:19.668509Z",
     "shell.execute_reply": "2022-08-20T10:39:19.667703Z",
     "shell.execute_reply.started": "2022-08-20T10:39:19.651099Z"
    },
    "id": "ev-hm43hEZkA",
    "outputId": "324a13fa-1aaf-4ea2-f461-e04a078cfe13"
   },
   "outputs": [
    {
     "name": "stdout",
     "output_type": "stream",
     "text": [
      "(568454, 2)\n"
     ]
    },
    {
     "data": {
      "text/html": [
       "<div>\n",
       "<style scoped>\n",
       "    .dataframe tbody tr th:only-of-type {\n",
       "        vertical-align: middle;\n",
       "    }\n",
       "\n",
       "    .dataframe tbody tr th {\n",
       "        vertical-align: top;\n",
       "    }\n",
       "\n",
       "    .dataframe thead th {\n",
       "        text-align: right;\n",
       "    }\n",
       "</style>\n",
       "<table border=\"1\" class=\"dataframe\">\n",
       "  <thead>\n",
       "    <tr style=\"text-align: right;\">\n",
       "      <th></th>\n",
       "      <th>review</th>\n",
       "      <th>rating</th>\n",
       "    </tr>\n",
       "  </thead>\n",
       "  <tbody>\n",
       "    <tr>\n",
       "      <th>0</th>\n",
       "      <td>I have bought several of the Vitality canned d...</td>\n",
       "      <td>5</td>\n",
       "    </tr>\n",
       "    <tr>\n",
       "      <th>1</th>\n",
       "      <td>Product arrived labeled as Jumbo Salted Peanut...</td>\n",
       "      <td>1</td>\n",
       "    </tr>\n",
       "    <tr>\n",
       "      <th>2</th>\n",
       "      <td>This is a confection that has been around a fe...</td>\n",
       "      <td>4</td>\n",
       "    </tr>\n",
       "    <tr>\n",
       "      <th>3</th>\n",
       "      <td>If you are looking for the secret ingredient i...</td>\n",
       "      <td>2</td>\n",
       "    </tr>\n",
       "    <tr>\n",
       "      <th>4</th>\n",
       "      <td>Great taffy at a great price.  There was a wid...</td>\n",
       "      <td>5</td>\n",
       "    </tr>\n",
       "  </tbody>\n",
       "</table>\n",
       "</div>"
      ],
      "text/plain": [
       "                                              review  rating\n",
       "0  I have bought several of the Vitality canned d...       5\n",
       "1  Product arrived labeled as Jumbo Salted Peanut...       1\n",
       "2  This is a confection that has been around a fe...       4\n",
       "3  If you are looking for the secret ingredient i...       2\n",
       "4  Great taffy at a great price.  There was a wid...       5"
      ]
     },
     "execution_count": 7,
     "metadata": {},
     "output_type": "execute_result"
    }
   ],
   "source": [
    "print(df.shape)\n",
    "df.head()"
   ]
  },
  {
   "cell_type": "markdown",
   "metadata": {
    "_uuid": "66f8562443f098c8507486bf3886d3a19dc582e6",
    "id": "hFLpZZSWEr_q"
   },
   "source": [
    "#### Let us now see if any of the column has any null values."
   ]
  },
  {
   "cell_type": "code",
   "execution_count": 8,
   "metadata": {
    "_uuid": "218cb4ec27d0b4a1509d436f1c26bdb6221e15b7",
    "execution": {
     "iopub.execute_input": "2022-08-20T10:39:19.669726Z",
     "iopub.status.busy": "2022-08-20T10:39:19.669517Z",
     "iopub.status.idle": "2022-08-20T10:39:19.728483Z",
     "shell.execute_reply": "2022-08-20T10:39:19.727856Z",
     "shell.execute_reply.started": "2022-08-20T10:39:19.669683Z"
    },
    "id": "b9UiXK5PFTYQ",
    "outputId": "d1700272-b7e5-416c-e5c5-6baee1d2928d"
   },
   "outputs": [
    {
     "data": {
      "text/plain": [
       "0"
      ]
     },
     "execution_count": 8,
     "metadata": {},
     "output_type": "execute_result"
    }
   ],
   "source": [
    "# check for null values\n",
    "df['review'].isnull().sum()  # no null values."
   ]
  },
  {
   "cell_type": "code",
   "execution_count": 9,
   "metadata": {
    "_uuid": "6c9a0e299abc3c1932aa0db184d6044f9a03fafc",
    "execution": {
     "iopub.execute_input": "2022-08-20T10:39:19.729868Z",
     "iopub.status.busy": "2022-08-20T10:39:19.729623Z",
     "iopub.status.idle": "2022-08-20T10:39:19.743997Z",
     "shell.execute_reply": "2022-08-20T10:39:19.743150Z",
     "shell.execute_reply.started": "2022-08-20T10:39:19.729824Z"
    }
   },
   "outputs": [
    {
     "data": {
      "text/plain": [
       "0"
      ]
     },
     "execution_count": 9,
     "metadata": {},
     "output_type": "execute_result"
    }
   ],
   "source": [
    "df['rating'].isnull().sum()"
   ]
  },
  {
   "cell_type": "markdown",
   "metadata": {
    "_uuid": "c7d8261eda8aaf1e28a5952ad7a71e1d906ecc12"
   },
   "source": [
    "#### Note that there is no point for keeping rows with different scores or sentiment for same review text.  So I will keep only one instance and drop the rest of the duplicates."
   ]
  },
  {
   "cell_type": "code",
   "execution_count": 10,
   "metadata": {
    "_uuid": "ab0a87b8287034de77b2c699d19ab1737b9a15b9",
    "execution": {
     "iopub.execute_input": "2022-08-20T10:39:19.745856Z",
     "iopub.status.busy": "2022-08-20T10:39:19.745335Z",
     "iopub.status.idle": "2022-08-20T10:39:20.389541Z",
     "shell.execute_reply": "2022-08-20T10:39:20.388730Z",
     "shell.execute_reply.started": "2022-08-20T10:39:19.745556Z"
    },
    "id": "xcccEV8TRfrc"
   },
   "outputs": [],
   "source": [
    "# remove duplicates/ for every duplicate we will keep only one row of that type. \n",
    "df.drop_duplicates(subset=['rating','review'],keep='first',inplace=True) "
   ]
  },
  {
   "cell_type": "code",
   "execution_count": 11,
   "metadata": {
    "_uuid": "b3b2228a4690d40c3ee93695f23cbf3656280b31",
    "execution": {
     "iopub.execute_input": "2022-08-20T10:39:20.391276Z",
     "iopub.status.busy": "2022-08-20T10:39:20.390992Z",
     "iopub.status.idle": "2022-08-20T10:39:20.409761Z",
     "shell.execute_reply": "2022-08-20T10:39:20.408994Z",
     "shell.execute_reply.started": "2022-08-20T10:39:20.391230Z"
    },
    "id": "IieegGjeRsUx",
    "outputId": "31a4554b-fa6c-4869-b52a-a12b9228a588"
   },
   "outputs": [
    {
     "name": "stdout",
     "output_type": "stream",
     "text": [
      "(393675, 2)\n"
     ]
    },
    {
     "data": {
      "text/html": [
       "<div>\n",
       "<style scoped>\n",
       "    .dataframe tbody tr th:only-of-type {\n",
       "        vertical-align: middle;\n",
       "    }\n",
       "\n",
       "    .dataframe tbody tr th {\n",
       "        vertical-align: top;\n",
       "    }\n",
       "\n",
       "    .dataframe thead th {\n",
       "        text-align: right;\n",
       "    }\n",
       "</style>\n",
       "<table border=\"1\" class=\"dataframe\">\n",
       "  <thead>\n",
       "    <tr style=\"text-align: right;\">\n",
       "      <th></th>\n",
       "      <th>review</th>\n",
       "      <th>rating</th>\n",
       "    </tr>\n",
       "  </thead>\n",
       "  <tbody>\n",
       "    <tr>\n",
       "      <th>0</th>\n",
       "      <td>I have bought several of the Vitality canned d...</td>\n",
       "      <td>5</td>\n",
       "    </tr>\n",
       "    <tr>\n",
       "      <th>1</th>\n",
       "      <td>Product arrived labeled as Jumbo Salted Peanut...</td>\n",
       "      <td>1</td>\n",
       "    </tr>\n",
       "    <tr>\n",
       "      <th>2</th>\n",
       "      <td>This is a confection that has been around a fe...</td>\n",
       "      <td>4</td>\n",
       "    </tr>\n",
       "    <tr>\n",
       "      <th>3</th>\n",
       "      <td>If you are looking for the secret ingredient i...</td>\n",
       "      <td>2</td>\n",
       "    </tr>\n",
       "    <tr>\n",
       "      <th>4</th>\n",
       "      <td>Great taffy at a great price.  There was a wid...</td>\n",
       "      <td>5</td>\n",
       "    </tr>\n",
       "  </tbody>\n",
       "</table>\n",
       "</div>"
      ],
      "text/plain": [
       "                                              review  rating\n",
       "0  I have bought several of the Vitality canned d...       5\n",
       "1  Product arrived labeled as Jumbo Salted Peanut...       1\n",
       "2  This is a confection that has been around a fe...       4\n",
       "3  If you are looking for the secret ingredient i...       2\n",
       "4  Great taffy at a great price.  There was a wid...       5"
      ]
     },
     "execution_count": 11,
     "metadata": {},
     "output_type": "execute_result"
    }
   ],
   "source": [
    "# now check the shape. note that shape is reduced which shows that we did had duplicate rows.\n",
    "print(df.shape)\n",
    "df.head()"
   ]
  },
  {
   "cell_type": "markdown",
   "metadata": {
    "_uuid": "bd6a139e98f2a280753454f5ba81700391d5dc33"
   },
   "source": [
    "#### Let us now print some reviews and see if we can get insights from the text."
   ]
  },
  {
   "cell_type": "code",
   "execution_count": 12,
   "metadata": {
    "_uuid": "7a777750ba4765f0bd3087766edbaedf51713490",
    "execution": {
     "iopub.execute_input": "2022-08-20T10:39:20.411224Z",
     "iopub.status.busy": "2022-08-20T10:39:20.410964Z",
     "iopub.status.idle": "2022-08-20T10:39:20.418029Z",
     "shell.execute_reply": "2022-08-20T10:39:20.416699Z",
     "shell.execute_reply.started": "2022-08-20T10:39:20.411179Z"
    },
    "id": "uiFFGnZ28lSs",
    "outputId": "92ac6d5e-6756-4303-944a-b2c24e5330cb"
   },
   "outputs": [
    {
     "name": "stdout",
     "output_type": "stream",
     "text": [
      "I have bought several of the Vitality canned dog food products and have found them all to be of good quality. The product looks more like a stew than a processed meat and it smells better. My Labrador is finicky and she appreciates this product better than  most.\n",
      "\n",
      "\n",
      "Product arrived labeled as Jumbo Salted Peanuts...the peanuts were actually small sized unsalted. Not sure if this was an error or if the vendor intended to represent the product as \"Jumbo\".\n",
      "\n",
      "\n",
      "This is a confection that has been around a few centuries.  It is a light, pillowy citrus gelatin with nuts - in this case Filberts. And it is cut into tiny squares and then liberally coated with powdered sugar.  And it is a tiny mouthful of heaven.  Not too chewy, and very flavorful.  I highly recommend this yummy treat.  If you are familiar with the story of C.S. Lewis' \"The Lion, The Witch, and The Wardrobe\" - this is the treat that seduces Edmund into selling out his Brother and Sisters to the Witch.\n",
      "\n",
      "\n",
      "If you are looking for the secret ingredient in Robitussin I believe I have found it.  I got this in addition to the Root Beer Extract I ordered (which was good) and made some cherry soda.  The flavor is very medicinal.\n",
      "\n",
      "\n",
      "Great taffy at a great price.  There was a wide assortment of yummy taffy.  Delivery was very quick.  If your a taffy lover, this is a deal.\n",
      "\n",
      "\n"
     ]
    }
   ],
   "source": [
    "# printing some reviews to see insights.\n",
    "for review in df['review'][:5]:\n",
    "    print(review+'\\n'+'\\n')"
   ]
  },
  {
   "cell_type": "markdown",
   "metadata": {
    "_uuid": "a718df2ddf66e154aab7cce2607b3af4965c79ec"
   },
   "source": [
    "#### Note that since we are doing sentiment analysis I will convert the values in score column to sentiment. Sentiment is 0 for ratings or scores less than 3 and 1 or  +  elsewhere. This therefore becomes a binary classification task in NLP domain."
   ]
  },
  {
   "cell_type": "code",
   "execution_count": 13,
   "metadata": {
    "_uuid": "f34d0ca5176df79971e63d2b283ee890c7743618",
    "execution": {
     "iopub.execute_input": "2022-08-20T10:39:20.419567Z",
     "iopub.status.busy": "2022-08-20T10:39:20.419244Z",
     "iopub.status.idle": "2022-08-20T10:39:20.425315Z",
     "shell.execute_reply": "2022-08-20T10:39:20.424240Z",
     "shell.execute_reply.started": "2022-08-20T10:39:20.419449Z"
    },
    "id": "cK5HuI9H_MFf"
   },
   "outputs": [],
   "source": [
    "def mark_sentiment(rating):\n",
    "    if(rating<=3):\n",
    "        return 0\n",
    "    else:\n",
    "        return 1"
   ]
  },
  {
   "cell_type": "code",
   "execution_count": 14,
   "metadata": {
    "_uuid": "53400cfb2c759e19aa920dfe8c993d7511d46fcd",
    "execution": {
     "iopub.execute_input": "2022-08-20T10:39:20.427209Z",
     "iopub.status.busy": "2022-08-20T10:39:20.426624Z",
     "iopub.status.idle": "2022-08-20T10:39:20.573253Z",
     "shell.execute_reply": "2022-08-20T10:39:20.572493Z",
     "shell.execute_reply.started": "2022-08-20T10:39:20.427150Z"
    },
    "id": "yHsAqyByBJsn"
   },
   "outputs": [],
   "source": [
    "df['sentiment']=df['rating'].apply(mark_sentiment)"
   ]
  },
  {
   "cell_type": "code",
   "execution_count": 15,
   "metadata": {
    "_uuid": "bd14ee54153c88deaf2d3ad58e3e8178c17662e2",
    "execution": {
     "iopub.execute_input": "2022-08-20T10:39:20.574964Z",
     "iopub.status.busy": "2022-08-20T10:39:20.574472Z",
     "iopub.status.idle": "2022-08-20T10:39:20.598688Z",
     "shell.execute_reply": "2022-08-20T10:39:20.597997Z",
     "shell.execute_reply.started": "2022-08-20T10:39:20.574749Z"
    },
    "id": "xkp3SW43Bh1a"
   },
   "outputs": [],
   "source": [
    "df.drop(['rating'],axis=1,inplace=True)"
   ]
  },
  {
   "cell_type": "code",
   "execution_count": 16,
   "metadata": {
    "_uuid": "c23230c64d8f3b6c58cead9b0ef295cf6ed0fe7f",
    "execution": {
     "iopub.execute_input": "2022-08-20T10:39:20.600436Z",
     "iopub.status.busy": "2022-08-20T10:39:20.599970Z",
     "iopub.status.idle": "2022-08-20T10:39:20.615065Z",
     "shell.execute_reply": "2022-08-20T10:39:20.614309Z",
     "shell.execute_reply.started": "2022-08-20T10:39:20.600321Z"
    },
    "id": "OUYcxtKOBnpL",
    "outputId": "d9a332aa-ff38-4c1f-b9ff-04ad0fcee6a0"
   },
   "outputs": [
    {
     "data": {
      "text/html": [
       "<div>\n",
       "<style scoped>\n",
       "    .dataframe tbody tr th:only-of-type {\n",
       "        vertical-align: middle;\n",
       "    }\n",
       "\n",
       "    .dataframe tbody tr th {\n",
       "        vertical-align: top;\n",
       "    }\n",
       "\n",
       "    .dataframe thead th {\n",
       "        text-align: right;\n",
       "    }\n",
       "</style>\n",
       "<table border=\"1\" class=\"dataframe\">\n",
       "  <thead>\n",
       "    <tr style=\"text-align: right;\">\n",
       "      <th></th>\n",
       "      <th>review</th>\n",
       "      <th>sentiment</th>\n",
       "    </tr>\n",
       "  </thead>\n",
       "  <tbody>\n",
       "    <tr>\n",
       "      <th>0</th>\n",
       "      <td>I have bought several of the Vitality canned d...</td>\n",
       "      <td>1</td>\n",
       "    </tr>\n",
       "    <tr>\n",
       "      <th>1</th>\n",
       "      <td>Product arrived labeled as Jumbo Salted Peanut...</td>\n",
       "      <td>0</td>\n",
       "    </tr>\n",
       "    <tr>\n",
       "      <th>2</th>\n",
       "      <td>This is a confection that has been around a fe...</td>\n",
       "      <td>1</td>\n",
       "    </tr>\n",
       "    <tr>\n",
       "      <th>3</th>\n",
       "      <td>If you are looking for the secret ingredient i...</td>\n",
       "      <td>0</td>\n",
       "    </tr>\n",
       "    <tr>\n",
       "      <th>4</th>\n",
       "      <td>Great taffy at a great price.  There was a wid...</td>\n",
       "      <td>1</td>\n",
       "    </tr>\n",
       "  </tbody>\n",
       "</table>\n",
       "</div>"
      ],
      "text/plain": [
       "                                              review  sentiment\n",
       "0  I have bought several of the Vitality canned d...          1\n",
       "1  Product arrived labeled as Jumbo Salted Peanut...          0\n",
       "2  This is a confection that has been around a fe...          1\n",
       "3  If you are looking for the secret ingredient i...          0\n",
       "4  Great taffy at a great price.  There was a wid...          1"
      ]
     },
     "execution_count": 16,
     "metadata": {},
     "output_type": "execute_result"
    }
   ],
   "source": [
    "df.head()"
   ]
  },
  {
   "cell_type": "code",
   "execution_count": 17,
   "metadata": {
    "_uuid": "07a40af0e7bee10926af888aa5f21909ff72985d",
    "execution": {
     "iopub.execute_input": "2022-08-20T10:39:20.617226Z",
     "iopub.status.busy": "2022-08-20T10:39:20.616729Z",
     "iopub.status.idle": "2022-08-20T10:39:20.630224Z",
     "shell.execute_reply": "2022-08-20T10:39:20.629524Z",
     "shell.execute_reply.started": "2022-08-20T10:39:20.617176Z"
    },
    "id": "eF78FZNuB3Lq",
    "outputId": "969fb056-2f1a-46ec-9bcd-e083e99fb373"
   },
   "outputs": [
    {
     "data": {
      "text/plain": [
       "sentiment\n",
       "1    306819\n",
       "0     86856\n",
       "Name: count, dtype: int64"
      ]
     },
     "execution_count": 17,
     "metadata": {},
     "output_type": "execute_result"
    }
   ],
   "source": [
    "df['sentiment'].value_counts()"
   ]
  },
  {
   "cell_type": "markdown",
   "metadata": {
    "_uuid": "a4fd194b0f6814612de5a4fce805eb7649450d75",
    "id": "xlsuYHoe8wY_"
   },
   "source": [
    "#### Pre-processing steps :\n",
    "\n",
    "1 ) First **removing punctuation and html tags** if any. note that the html tas may be present ast the data must be scraped from net.\n",
    "\n",
    "2) **Tokenize** the reviews into tokens or words .\n",
    "\n",
    "3) Next **remove the stop words and shorter words** as they cause noise.\n",
    "\n",
    "4) **Stem or lemmatize** the words depending on what does better. Herer I have yse lemmatizer."
   ]
  },
  {
   "cell_type": "code",
   "execution_count": 18,
   "metadata": {
    "_uuid": "d8d6aa792cfa36dcc1b33cf90213001891e7429d",
    "execution": {
     "iopub.execute_input": "2022-08-20T10:39:20.632071Z",
     "iopub.status.busy": "2022-08-20T10:39:20.631612Z",
     "iopub.status.idle": "2022-08-20T10:39:20.638103Z",
     "shell.execute_reply": "2022-08-20T10:39:20.637038Z",
     "shell.execute_reply.started": "2022-08-20T10:39:20.631846Z"
    },
    "id": "KIm7Erd586HC"
   },
   "outputs": [],
   "source": [
    "# function to clean and pre-process the text.\n",
    "def clean_reviews(review):\n",
    "    # Guard against NaN/non-string\n",
    "    if not isinstance(review, str):\n",
    "        review = str(review) if review is not None else \"\"\n",
    "\n",
    "    # 1. Removing html tags\n",
    "    review_text = BeautifulSoup(review, \"lxml\").get_text()\n",
    "\n",
    "    # 2. Retaining only alphabets.\n",
    "    review_text = re.sub(\"[^a-zA-Z]\", \" \", review_text)\n",
    "\n",
    "    # 3. Converting to lower case and splitting\n",
    "    word_tokens = review_text.lower().split()\n",
    "\n",
    "    # 4. Remove stopwords and lemmatize (reuse pre-instantiated globals)\n",
    "    word_tokens = [le.lemmatize(w) for w in word_tokens if w not in stop_words]\n",
    "\n",
    "    cleaned_review = \" \".join(word_tokens)\n",
    "    return cleaned_review"
   ]
  },
  {
   "cell_type": "markdown",
   "metadata": {
    "_uuid": "effe8f6f6870d20e292d2c0b91bc2629f213203b",
    "id": "tzkaC80b96I7"
   },
   "source": [
    "#### Note that pre processing all the reviews is taking way too much time and so I will take only 100K reviews. To balance the class  I have taken equal instances of each sentiment."
   ]
  },
  {
   "cell_type": "code",
   "execution_count": 19,
   "metadata": {
    "_uuid": "6b9d5cde9cac9a93ee404a67bf2e3715ea1a05d4",
    "execution": {
     "iopub.execute_input": "2022-08-20T10:39:20.639977Z",
     "iopub.status.busy": "2022-08-20T10:39:20.639350Z",
     "iopub.status.idle": "2022-08-20T10:39:20.677379Z",
     "shell.execute_reply": "2022-08-20T10:39:20.676708Z",
     "shell.execute_reply.started": "2022-08-20T10:39:20.639641Z"
    },
    "id": "EtbatAehCwqU"
   },
   "outputs": [],
   "source": [
    "pos_df=df.loc[df.sentiment==1,:][:50000]\n",
    "neg_df=df.loc[df.sentiment==0,:][:50000]"
   ]
  },
  {
   "cell_type": "code",
   "execution_count": 20,
   "metadata": {
    "_uuid": "b0e23f9b74e34c04e0f43f9fb2fbb34036820eed",
    "execution": {
     "iopub.execute_input": "2022-08-20T10:39:20.679291Z",
     "iopub.status.busy": "2022-08-20T10:39:20.678795Z",
     "iopub.status.idle": "2022-08-20T10:39:20.693032Z",
     "shell.execute_reply": "2022-08-20T10:39:20.692177Z",
     "shell.execute_reply.started": "2022-08-20T10:39:20.679242Z"
    },
    "id": "Um1-wLvfEKdN",
    "outputId": "50b5fe81-1e89-415e-9f9d-e7f6d6f33f3e"
   },
   "outputs": [
    {
     "data": {
      "text/html": [
       "<div>\n",
       "<style scoped>\n",
       "    .dataframe tbody tr th:only-of-type {\n",
       "        vertical-align: middle;\n",
       "    }\n",
       "\n",
       "    .dataframe tbody tr th {\n",
       "        vertical-align: top;\n",
       "    }\n",
       "\n",
       "    .dataframe thead th {\n",
       "        text-align: right;\n",
       "    }\n",
       "</style>\n",
       "<table border=\"1\" class=\"dataframe\">\n",
       "  <thead>\n",
       "    <tr style=\"text-align: right;\">\n",
       "      <th></th>\n",
       "      <th>review</th>\n",
       "      <th>sentiment</th>\n",
       "    </tr>\n",
       "  </thead>\n",
       "  <tbody>\n",
       "    <tr>\n",
       "      <th>0</th>\n",
       "      <td>I have bought several of the Vitality canned d...</td>\n",
       "      <td>1</td>\n",
       "    </tr>\n",
       "    <tr>\n",
       "      <th>2</th>\n",
       "      <td>This is a confection that has been around a fe...</td>\n",
       "      <td>1</td>\n",
       "    </tr>\n",
       "    <tr>\n",
       "      <th>4</th>\n",
       "      <td>Great taffy at a great price.  There was a wid...</td>\n",
       "      <td>1</td>\n",
       "    </tr>\n",
       "    <tr>\n",
       "      <th>5</th>\n",
       "      <td>I got a wild hair for taffy and ordered this f...</td>\n",
       "      <td>1</td>\n",
       "    </tr>\n",
       "    <tr>\n",
       "      <th>6</th>\n",
       "      <td>This saltwater taffy had great flavors and was...</td>\n",
       "      <td>1</td>\n",
       "    </tr>\n",
       "  </tbody>\n",
       "</table>\n",
       "</div>"
      ],
      "text/plain": [
       "                                              review  sentiment\n",
       "0  I have bought several of the Vitality canned d...          1\n",
       "2  This is a confection that has been around a fe...          1\n",
       "4  Great taffy at a great price.  There was a wid...          1\n",
       "5  I got a wild hair for taffy and ordered this f...          1\n",
       "6  This saltwater taffy had great flavors and was...          1"
      ]
     },
     "execution_count": 20,
     "metadata": {},
     "output_type": "execute_result"
    }
   ],
   "source": [
    "pos_df.head()"
   ]
  },
  {
   "cell_type": "code",
   "execution_count": 21,
   "metadata": {
    "_uuid": "4e194a611c91fa997d1cd62ccc77d2f7a7ce41bc",
    "execution": {
     "iopub.execute_input": "2022-08-20T10:39:20.694712Z",
     "iopub.status.busy": "2022-08-20T10:39:20.694222Z",
     "iopub.status.idle": "2022-08-20T10:39:20.707164Z",
     "shell.execute_reply": "2022-08-20T10:39:20.706467Z",
     "shell.execute_reply.started": "2022-08-20T10:39:20.694663Z"
    },
    "id": "w_-UD-EfDMST",
    "outputId": "26db4b93-5b41-4c7c-8ded-5715b5f92e75"
   },
   "outputs": [
    {
     "data": {
      "text/html": [
       "<div>\n",
       "<style scoped>\n",
       "    .dataframe tbody tr th:only-of-type {\n",
       "        vertical-align: middle;\n",
       "    }\n",
       "\n",
       "    .dataframe tbody tr th {\n",
       "        vertical-align: top;\n",
       "    }\n",
       "\n",
       "    .dataframe thead th {\n",
       "        text-align: right;\n",
       "    }\n",
       "</style>\n",
       "<table border=\"1\" class=\"dataframe\">\n",
       "  <thead>\n",
       "    <tr style=\"text-align: right;\">\n",
       "      <th></th>\n",
       "      <th>review</th>\n",
       "      <th>sentiment</th>\n",
       "    </tr>\n",
       "  </thead>\n",
       "  <tbody>\n",
       "    <tr>\n",
       "      <th>1</th>\n",
       "      <td>Product arrived labeled as Jumbo Salted Peanut...</td>\n",
       "      <td>0</td>\n",
       "    </tr>\n",
       "    <tr>\n",
       "      <th>3</th>\n",
       "      <td>If you are looking for the secret ingredient i...</td>\n",
       "      <td>0</td>\n",
       "    </tr>\n",
       "    <tr>\n",
       "      <th>12</th>\n",
       "      <td>My cats have been happily eating Felidae Plati...</td>\n",
       "      <td>0</td>\n",
       "    </tr>\n",
       "    <tr>\n",
       "      <th>16</th>\n",
       "      <td>I love eating them and they are good for watch...</td>\n",
       "      <td>0</td>\n",
       "    </tr>\n",
       "    <tr>\n",
       "      <th>26</th>\n",
       "      <td>The candy is just red , No flavor . Just  plan...</td>\n",
       "      <td>0</td>\n",
       "    </tr>\n",
       "  </tbody>\n",
       "</table>\n",
       "</div>"
      ],
      "text/plain": [
       "                                               review  sentiment\n",
       "1   Product arrived labeled as Jumbo Salted Peanut...          0\n",
       "3   If you are looking for the secret ingredient i...          0\n",
       "12  My cats have been happily eating Felidae Plati...          0\n",
       "16  I love eating them and they are good for watch...          0\n",
       "26  The candy is just red , No flavor . Just  plan...          0"
      ]
     },
     "execution_count": 21,
     "metadata": {},
     "output_type": "execute_result"
    }
   ],
   "source": [
    "neg_df.head()"
   ]
  },
  {
   "cell_type": "markdown",
   "metadata": {
    "_uuid": "947fd99a414149bae561fc474e3899d795282744"
   },
   "source": [
    "#### We can now combine reviews of each sentiment and shuffle them so that their order doesn't make any sense."
   ]
  },
  {
   "cell_type": "code",
   "execution_count": 22,
   "metadata": {
    "_uuid": "7c893aaa28c80717a51e7f3d7a36479cf6d63f06",
    "execution": {
     "iopub.execute_input": "2022-08-20T10:39:20.709210Z",
     "iopub.status.busy": "2022-08-20T10:39:20.708969Z",
     "iopub.status.idle": "2022-08-20T10:39:20.719401Z",
     "shell.execute_reply": "2022-08-20T10:39:20.718609Z",
     "shell.execute_reply.started": "2022-08-20T10:39:20.709164Z"
    },
    "id": "LmLJwhFPEEDy"
   },
   "outputs": [],
   "source": [
    "#combining\n",
    "df=pd.concat([pos_df,neg_df],ignore_index=True)"
   ]
  },
  {
   "cell_type": "code",
   "execution_count": 23,
   "metadata": {
    "_uuid": "f98ce122399a51e2c5279b4cde328139205c658f",
    "execution": {
     "iopub.execute_input": "2022-08-20T10:39:20.722361Z",
     "iopub.status.busy": "2022-08-20T10:39:20.721849Z",
     "iopub.status.idle": "2022-08-20T10:39:20.737622Z",
     "shell.execute_reply": "2022-08-20T10:39:20.736892Z",
     "shell.execute_reply.started": "2022-08-20T10:39:20.722246Z"
    },
    "id": "hWFZKf3dERLU",
    "outputId": "3f22763a-2dff-47e1-eb86-5e2111d5d447"
   },
   "outputs": [
    {
     "name": "stdout",
     "output_type": "stream",
     "text": [
      "(100000, 2)\n"
     ]
    },
    {
     "data": {
      "text/html": [
       "<div>\n",
       "<style scoped>\n",
       "    .dataframe tbody tr th:only-of-type {\n",
       "        vertical-align: middle;\n",
       "    }\n",
       "\n",
       "    .dataframe tbody tr th {\n",
       "        vertical-align: top;\n",
       "    }\n",
       "\n",
       "    .dataframe thead th {\n",
       "        text-align: right;\n",
       "    }\n",
       "</style>\n",
       "<table border=\"1\" class=\"dataframe\">\n",
       "  <thead>\n",
       "    <tr style=\"text-align: right;\">\n",
       "      <th></th>\n",
       "      <th>review</th>\n",
       "      <th>sentiment</th>\n",
       "    </tr>\n",
       "  </thead>\n",
       "  <tbody>\n",
       "    <tr>\n",
       "      <th>0</th>\n",
       "      <td>I have bought several of the Vitality canned d...</td>\n",
       "      <td>1</td>\n",
       "    </tr>\n",
       "    <tr>\n",
       "      <th>1</th>\n",
       "      <td>This is a confection that has been around a fe...</td>\n",
       "      <td>1</td>\n",
       "    </tr>\n",
       "    <tr>\n",
       "      <th>2</th>\n",
       "      <td>Great taffy at a great price.  There was a wid...</td>\n",
       "      <td>1</td>\n",
       "    </tr>\n",
       "    <tr>\n",
       "      <th>3</th>\n",
       "      <td>I got a wild hair for taffy and ordered this f...</td>\n",
       "      <td>1</td>\n",
       "    </tr>\n",
       "    <tr>\n",
       "      <th>4</th>\n",
       "      <td>This saltwater taffy had great flavors and was...</td>\n",
       "      <td>1</td>\n",
       "    </tr>\n",
       "  </tbody>\n",
       "</table>\n",
       "</div>"
      ],
      "text/plain": [
       "                                              review  sentiment\n",
       "0  I have bought several of the Vitality canned d...          1\n",
       "1  This is a confection that has been around a fe...          1\n",
       "2  Great taffy at a great price.  There was a wid...          1\n",
       "3  I got a wild hair for taffy and ordered this f...          1\n",
       "4  This saltwater taffy had great flavors and was...          1"
      ]
     },
     "execution_count": 23,
     "metadata": {},
     "output_type": "execute_result"
    }
   ],
   "source": [
    "print(df.shape)\n",
    "df.head()"
   ]
  },
  {
   "cell_type": "code",
   "execution_count": 24,
   "metadata": {
    "_uuid": "46e946e4e593482f373a7ac97cda97b1310cc72a",
    "execution": {
     "iopub.execute_input": "2022-08-20T10:39:20.740154Z",
     "iopub.status.busy": "2022-08-20T10:39:20.739588Z",
     "iopub.status.idle": "2022-08-20T10:39:20.767945Z",
     "shell.execute_reply": "2022-08-20T10:39:20.767248Z",
     "shell.execute_reply.started": "2022-08-20T10:39:20.739808Z"
    },
    "id": "ngCjsqeLHknP",
    "outputId": "2e53f95a-4cb4-413d-b6f5-5a225e3e9309"
   },
   "outputs": [
    {
     "name": "stdout",
     "output_type": "stream",
     "text": [
      "(100000, 2)\n"
     ]
    },
    {
     "data": {
      "text/html": [
       "<div>\n",
       "<style scoped>\n",
       "    .dataframe tbody tr th:only-of-type {\n",
       "        vertical-align: middle;\n",
       "    }\n",
       "\n",
       "    .dataframe tbody tr th {\n",
       "        vertical-align: top;\n",
       "    }\n",
       "\n",
       "    .dataframe thead th {\n",
       "        text-align: right;\n",
       "    }\n",
       "</style>\n",
       "<table border=\"1\" class=\"dataframe\">\n",
       "  <thead>\n",
       "    <tr style=\"text-align: right;\">\n",
       "      <th></th>\n",
       "      <th>review</th>\n",
       "      <th>sentiment</th>\n",
       "    </tr>\n",
       "  </thead>\n",
       "  <tbody>\n",
       "    <tr>\n",
       "      <th>0</th>\n",
       "      <td>Just be sure and try 1 packet before plunking ...</td>\n",
       "      <td>0</td>\n",
       "    </tr>\n",
       "    <tr>\n",
       "      <th>1</th>\n",
       "      <td>It looked like a bargan at $18.00 for 3 bottle...</td>\n",
       "      <td>0</td>\n",
       "    </tr>\n",
       "    <tr>\n",
       "      <th>2</th>\n",
       "      <td>I first bought another brand of coconut butter...</td>\n",
       "      <td>0</td>\n",
       "    </tr>\n",
       "    <tr>\n",
       "      <th>3</th>\n",
       "      <td>La Tourangelle Roasted Walnut is the best tast...</td>\n",
       "      <td>1</td>\n",
       "    </tr>\n",
       "    <tr>\n",
       "      <th>4</th>\n",
       "      <td>I can't drink right now, so I thought this wou...</td>\n",
       "      <td>0</td>\n",
       "    </tr>\n",
       "  </tbody>\n",
       "</table>\n",
       "</div>"
      ],
      "text/plain": [
       "                                              review  sentiment\n",
       "0  Just be sure and try 1 packet before plunking ...          0\n",
       "1  It looked like a bargan at $18.00 for 3 bottle...          0\n",
       "2  I first bought another brand of coconut butter...          0\n",
       "3  La Tourangelle Roasted Walnut is the best tast...          1\n",
       "4  I can't drink right now, so I thought this wou...          0"
      ]
     },
     "execution_count": 24,
     "metadata": {},
     "output_type": "execute_result"
    }
   ],
   "source": [
    "# shuffling rows\n",
    "df = df.sample(frac=1).reset_index(drop=True)\n",
    "print(df.shape) \n",
    "df.head()\n"
   ]
  },
  {
   "cell_type": "markdown",
   "metadata": {
    "_uuid": "2eb88a2676d7cc8c49bdcbf1b48c2c649bde10d2",
    "id": "TCFFcmQGvauc"
   },
   "source": [
    "### CREATING GOOGLE WORD2VEC WORD EMBEDDINGS IN GENSIM"
   ]
  },
  {
   "cell_type": "code",
   "execution_count": 25,
   "metadata": {
    "_uuid": "a2c0d39ac71fca195acb0d3ea5d99b57c625e350",
    "execution": {
     "iopub.execute_input": "2022-08-20T10:39:20.769595Z",
     "iopub.status.busy": "2022-08-20T10:39:20.769125Z",
     "iopub.status.idle": "2022-08-20T10:39:20.773232Z",
     "shell.execute_reply": "2022-08-20T10:39:20.772285Z",
     "shell.execute_reply.started": "2022-08-20T10:39:20.769546Z"
    },
    "id": "b8LYvfQn_GD0",
    "outputId": "2d2b504e-6f63-4f5c-8eab-8dc9b26098a7"
   },
   "outputs": [],
   "source": [
    "# import gensim\n",
    "# # load Google's pre-trained Word2Vec model.\n",
    "# pre_w2v_model = gensim.models.KeyedVectors.load_word2vec_format(r'drive/Colab Notebooks/amazon food reviews/GoogleNews-vectors-negative300.bin', binary=True) \n"
   ]
  },
  {
   "cell_type": "code",
   "execution_count": 26,
   "metadata": {
    "_uuid": "92fccc63bd1a69dba8e5729a929402c44efd2b76",
    "execution": {
     "iopub.execute_input": "2022-08-20T10:39:20.774955Z",
     "iopub.status.busy": "2022-08-20T10:39:20.774450Z"
    },
    "id": "eDa2gp9zorg2",
    "outputId": "85c59721-8e9a-40f6-df9a-f80bf3f823bb"
   },
   "outputs": [
    {
     "name": "stderr",
     "output_type": "stream",
     "text": [
      "[nltk_data] Downloading package punkt_tab to\n",
      "[nltk_data]     C:\\Users\\itn.heydar.alvaro\\AppData\\Roaming\\nltk_data..\n",
      "[nltk_data]     .\n",
      "[nltk_data]   Package punkt_tab is already up-to-date!\n",
      "Sentence tokenizing + cleaning: 100%|██████████| 100000/100000 [01:40<00:00, 992.10it/s]"
     ]
    },
    {
     "name": "stdout",
     "output_type": "stream",
     "text": [
      "Sentences found: 513004; kept: 506787; time: 100.8s\n"
     ]
    },
    {
     "name": "stderr",
     "output_type": "stream",
     "text": [
      "\n"
     ]
    }
   ],
   "source": [
    "# Optional progress bar\n",
    "try:\n",
    "    from tqdm import tqdm\n",
    "except Exception:\n",
    "    def tqdm(x, **kwargs):\n",
    "        return x\n",
    "\n",
    "import time\n",
    "start_time = time.time()\n",
    "nltk.download(\"punkt_tab\")\n",
    "\n",
    "SAMPLE_N = None  \n",
    "reviews_iter = df['review'] if SAMPLE_N is None else df['review'].iloc[:SAMPLE_N]\n",
    "\n",
    "tokenizer = nltk.data.load('tokenizers/punkt/english.pickle')\n",
    "sentences = []\n",
    "num_sents = 0\n",
    "for review in tqdm(reviews_iter, desc=\"Sentence tokenizing + cleaning\"):\n",
    "    sents = tokenizer.tokenize(review.strip())\n",
    "    num_sents += len(sents)\n",
    "    for sent in sents:\n",
    "        cleaned_sent = clean_reviews(sent)\n",
    "        if cleaned_sent:  # skip empty after cleaning\n",
    "            sentences.append(cleaned_sent.split())  # can use word_tokenize also.\n",
    "\n",
    "elapsed = time.time() - start_time\n",
    "print(f\"Sentences found: {num_sents}; kept: {len(sentences)}; time: {elapsed:.1f}s\")"
   ]
  },
  {
   "cell_type": "markdown",
   "metadata": {
    "_uuid": "3e42c58b98aeac961923735a17cf0cd5e9400130"
   },
   "source": [
    "#### Now let us print some sentences just to check iff they are in the correct fornat."
   ]
  },
  {
   "cell_type": "code",
   "execution_count": 27,
   "metadata": {
    "_uuid": "9818e2ccefffde2fb5f409a13b87e44b7c14b5ca",
    "id": "HzJzXDeGqTTR",
    "outputId": "517cb158-a089-4721-fcd0-086eb11ec778"
   },
   "outputs": [
    {
     "name": "stdout",
     "output_type": "stream",
     "text": [
      "['sure', 'try', 'packet', 'plunking', 'whole', 'crate'] \n",
      "\n",
      "['bought', 'pack', 'store', 'today', 'could', 'get', 'past', 'nd', 'bite'] \n",
      "\n",
      "['heat', 'intense', 'flavor', 'flat'] \n",
      "\n",
      "['probably', 'better', 'dress', 'poached', 'egg', 'veggie', 'flavorful', 'kind', 'spicy', 'looking'] \n",
      "\n",
      "['looked', 'like', 'bargan', 'bottle', 'ketchup', 'contains', 'high', 'fructose', 'corn', 'syrup', 'wich', 'many', 'health', 'professional', 'advising', 'avoid'] \n",
      "\n",
      "Previewed 5 of 506787 sentences\n"
     ]
    }
   ],
   "source": [
    "# trying to print few sentences\n",
    "for te in sentences[:5]:\n",
    "    print(te, \"\\n\")\n",
    "print(f\"Previewed {min(5, len(sentences))} of {len(sentences)} sentences\")"
   ]
  },
  {
   "cell_type": "markdown",
   "metadata": {
    "_uuid": "77edb6b38a7da2587bd57cfaf3dd28d8c7dcbf2e"
   },
   "source": [
    "####  Now actually creating the word 2 vec embeddings."
   ]
  },
  {
   "cell_type": "code",
   "execution_count": 28,
   "metadata": {
    "_uuid": "1a3b204a1219c074721fff30b1d3912f633eab74",
    "id": "bbUhUFHCsTx_"
   },
   "outputs": [],
   "source": [
    "w2v_model = FastText(    sentences=sentences,\n",
    "    vector_size=64,     # embedding dimension\n",
    "    window=10,\n",
    "    min_count=1,\n",
    "    sg=1,                # 1 = skip-gram; 0 = CBOW\n",
    "    workers=max(1, multiprocessing.cpu_count() - 1)\n",
    ")\n"
   ]
  },
  {
   "cell_type": "markdown",
   "metadata": {
    "_uuid": "f2a08433d75209a955eac4dc9fb7d974a6072716"
   },
   "source": [
    "#### Parameters: -\n",
    "\n",
    "**sentences : ** The sentences we have obtained.\n",
    "\n",
    "**size : ** The dimesnions of the vector used to represent each word.\n",
    "\n",
    "**window : ** The number f words around any word to see the context.\n",
    "\n",
    "**min_count : ** The minimum number of times a word should appear for its embedding to be formed or learnt.\n"
   ]
  },
  {
   "cell_type": "code",
   "execution_count": 29,
   "metadata": {
    "_uuid": "5f04a542e992d3e5bbd4fffd5bd6090b353a4036",
    "id": "YdpRIli7tfzu",
    "outputId": "d52b2afa-2dab-4403-db68-6d3dfc77f5ac"
   },
   "outputs": [],
   "source": [
    "w2v_model.train(sentences,epochs=10,total_examples=len(sentences))\n",
    "\n",
    "#save model\n",
    "w2v_model.save(\"word2vec_model_full.model\")"
   ]
  },
  {
   "cell_type": "code",
   "execution_count": 30,
   "metadata": {
    "_uuid": "8ad6baab82cbba74094017af9e30e138fa278fe7",
    "id": "9FU9z2LTuBDP",
    "outputId": "0556829c-6110-4348-b233-d2589da93f0e"
   },
   "outputs": [
    {
     "data": {
      "text/plain": [
       "array([ 0.1340305 ,  0.10124166, -0.09704781, -0.21378712, -0.23190027,\n",
       "       -0.32342544, -0.07897206, -0.10482092, -0.46390638,  0.03946926,\n",
       "       -0.3023175 ,  0.5711421 , -0.38033628,  0.12446365,  0.1578061 ,\n",
       "        0.17853771, -0.14027065, -0.16362189, -0.35096943,  0.30139506,\n",
       "        0.02920226,  0.06953161, -0.278682  ,  0.2711485 ,  0.00866819,\n",
       "        0.23133968, -0.44195405,  0.22431722,  0.02887817, -0.02402358,\n",
       "       -0.23669796, -0.24047548,  0.41077632, -0.10784383, -0.1888813 ,\n",
       "       -0.5762954 , -0.02448222, -0.33361328,  0.07021172, -0.22051607,\n",
       "       -0.16259709, -0.22342534, -0.08251151,  0.06350886,  0.0933098 ,\n",
       "        0.11420081,  0.06215491,  0.22351079,  0.42255047,  0.01731537,\n",
       "        0.3211956 ,  0.08461407, -0.09371953,  0.10077506, -0.20923878,\n",
       "        0.5788417 , -0.36007908,  0.16275454,  0.08295234, -0.18302602,\n",
       "        0.16419859, -0.23159343, -0.2248343 ,  0.17749485], dtype=float32)"
      ]
     },
     "execution_count": 30,
     "metadata": {},
     "output_type": "execute_result"
    }
   ],
   "source": [
    "# embedding of a particular word.\n",
    "w2v_model.wv.get_vector('like')"
   ]
  },
  {
   "cell_type": "code",
   "execution_count": 31,
   "metadata": {
    "_uuid": "0050556ac2df4bba102776191ac0b348a1ef9bde",
    "id": "LuiNWZrHuOx8",
    "outputId": "81f04fde-f66d-4ad9-df37-ff30855ec44d"
   },
   "outputs": [
    {
     "name": "stdout",
     "output_type": "stream",
     "text": [
      "The total number of words are :  56418\n"
     ]
    }
   ],
   "source": [
    "# total number of extracted words.\n",
    "vocab = w2v_model.wv.key_to_index\n",
    "print(\"The total number of words are : \", len(vocab))"
   ]
  },
  {
   "cell_type": "code",
   "execution_count": 32,
   "metadata": {
    "_uuid": "51ddd393a5cf45056dc8321c85f1ba055d0c1db4",
    "id": "VIfgI10IuakQ",
    "outputId": "67471d44-d5f7-432f-88c5-40b9ad1483d9"
   },
   "outputs": [
    {
     "data": {
      "text/plain": [
       "[('likey', 0.8224748969078064),\n",
       " ('reallylike', 0.8167302012443542),\n",
       " ('kind', 0.8115785121917725),\n",
       " ('llike', 0.7830212712287903),\n",
       " ('personallylike', 0.781078040599823),\n",
       " ('smellslike', 0.7807981967926025),\n",
       " ('weird', 0.7725093364715576),\n",
       " ('ok', 0.7714635133743286),\n",
       " ('tlike', 0.7699018716812134),\n",
       " ('think', 0.7674188613891602)]"
      ]
     },
     "execution_count": 32,
     "metadata": {},
     "output_type": "execute_result"
    }
   ],
   "source": [
    "# words most similar to a given word.\n",
    "w2v_model.wv.most_similar('like')"
   ]
  },
  {
   "cell_type": "code",
   "execution_count": 33,
   "metadata": {
    "_uuid": "6296cb60a4d4ba8c750bd1de89017122604c38c0",
    "id": "3-IiBwrwvb1g",
    "outputId": "7f59551a-db93-4dc2-a9c0-8770fed03410"
   },
   "outputs": [
    {
     "data": {
      "text/plain": [
       "0.7465925"
      ]
     },
     "execution_count": 33,
     "metadata": {},
     "output_type": "execute_result"
    }
   ],
   "source": [
    "# similaraity b/w two words\n",
    "w2v_model.wv.similarity('good','like')"
   ]
  },
  {
   "cell_type": "markdown",
   "metadata": {
    "_uuid": "f83b2a84605e54ae86f90ea86150b8891eb0271a",
    "id": "KSDerJ9Nv3j7"
   },
   "source": [
    "#### Now creating a dictionary with words in vocab and their embeddings. This will be used when we will be creating embedding matrix (for feeding to keras embedding layer)."
   ]
  },
  {
   "cell_type": "code",
   "execution_count": 34,
   "metadata": {
    "_uuid": "46027121588e43cc98f6e925fc3eedaa561d2802",
    "id": "xjTUnAL4zcmW",
    "outputId": "b3d4a082-1586-4657-92a9-a6decca455dd"
   },
   "outputs": [
    {
     "name": "stdout",
     "output_type": "stream",
     "text": [
      "The no of words : 56418\n"
     ]
    }
   ],
   "source": [
    "print(\"The no of words :\", len(vocab))\n",
    "# print(vocab)"
   ]
  },
  {
   "cell_type": "code",
   "execution_count": 35,
   "metadata": {
    "_uuid": "f1dd13a7bb306dd0002a5b51486515220d163c5e",
    "id": "RKjJClxezPSf"
   },
   "outputs": [],
   "source": [
    "# print(vocab)\n",
    "vocab = list(vocab.keys())"
   ]
  },
  {
   "cell_type": "code",
   "execution_count": 36,
   "metadata": {
    "_uuid": "1f09f5f21f612ef5a3b59747218e6c0ccb0ad415",
    "id": "rcqASqyLwNDk",
    "outputId": "cd2f1c03-5ff9-4f05-9279-81a97c93c24c"
   },
   "outputs": [
    {
     "name": "stdout",
     "output_type": "stream",
     "text": [
      "The no of key-value pairs :  56418\n"
     ]
    }
   ],
   "source": [
    "word_vec_dict = {}\n",
    "for word in vocab:\n",
    "  word_vec_dict[word] = w2v_model.wv.get_vector(word)\n",
    "print(\"The no of key-value pairs : \", len(word_vec_dict))  # should come equal to vocab size"
   ]
  },
  {
   "cell_type": "markdown",
   "metadata": {
    "_uuid": "c3b1b7b10e439cd36ac8bb406d9cf2a3c6b41e5a"
   },
   "source": [
    "### PREPARING THE DATA FOR KERAS EMBEDDING LAYER."
   ]
  },
  {
   "cell_type": "code",
   "execution_count": 37,
   "metadata": {
    "_uuid": "c07b374090e27dac23d28a87fcad917d81b0975c",
    "id": "aempfGb-TNO3"
   },
   "outputs": [],
   "source": [
    "# cleaning reviews.\n",
    "df['clean_review']=df['review'].apply(clean_reviews)"
   ]
  },
  {
   "cell_type": "code",
   "execution_count": 38,
   "metadata": {
    "_uuid": "d2653074d7010e129645d150ff57a849b1f69cb0",
    "id": "4DmmFNv0TlED",
    "outputId": "4181171a-936b-481a-afce-d9da33d9f831"
   },
   "outputs": [
    {
     "name": "stdout",
     "output_type": "stream",
     "text": [
      "1564\n"
     ]
    }
   ],
   "source": [
    "# number of unique words = 56379.\n",
    "\n",
    "# now since we will have to pad we need to find the maximum lenght of any document.\n",
    "\n",
    "maxi=-1\n",
    "for i,rev in enumerate(df['clean_review']):\n",
    "    tokens=rev.split()\n",
    "    if(len(tokens)>maxi):\n",
    "        maxi=len(tokens)\n",
    "print(maxi)"
   ]
  },
  {
   "cell_type": "code",
   "execution_count": 39,
   "metadata": {
    "_uuid": "64fe854ee56f7ac7f1881e690e7d98b5fb10520f",
    "id": "9pw6qdOfntcS"
   },
   "outputs": [],
   "source": [
    "tok = Tokenizer()\n",
    "tok.fit_on_texts(df['clean_review'])\n",
    "vocab_size = len(tok.word_index) + 1\n",
    "encd_rev = tok.texts_to_sequences(df['clean_review'])"
   ]
  },
  {
   "cell_type": "code",
   "execution_count": 40,
   "metadata": {
    "_uuid": "865e1a04cd9b78a021b1e1e788af45b244a872cf",
    "id": "S6K-WwbSnnaa"
   },
   "outputs": [],
   "source": [
    "max_rev_len=1565  # max lenght of a review\n",
    "vocab_size = len(tok.word_index) + 1  # total no of words\n",
    "embed_dim=64 # embedding dimension as choosen in word2vec constructor"
   ]
  },
  {
   "cell_type": "code",
   "execution_count": 41,
   "metadata": {
    "_uuid": "800f7cf8e872c92ff3930eea9c1dd564560225da",
    "id": "h9NqY0ztof_Z",
    "outputId": "4b56d53b-bcf6-4c7b-ce99-7e4f803c2c86"
   },
   "outputs": [
    {
     "data": {
      "text/plain": [
       "(100000, 1565)"
      ]
     },
     "execution_count": 41,
     "metadata": {},
     "output_type": "execute_result"
    }
   ],
   "source": [
    "# now padding to have a amximum length of 1565\n",
    "pad_rev= pad_sequences(encd_rev, maxlen=max_rev_len, padding='post')\n",
    "pad_rev.shape   # note that we had 100K reviews and we have padded each review to have  a lenght of 1565 words."
   ]
  },
  {
   "cell_type": "markdown",
   "metadata": {
    "_uuid": "6a6d9bfc59482176a7f5916a7f4ca68aa094e8a8"
   },
   "source": [
    "### CREATING THE EMBEDDING MATRIX"
   ]
  },
  {
   "cell_type": "code",
   "execution_count": 42,
   "metadata": {
    "_uuid": "f751ae6da742675fc4789fa33421cd87223d651d",
    "id": "GlJCOsmfxu-S"
   },
   "outputs": [],
   "source": [
    "# now creating the embedding matrix\n",
    "embed_matrix = np.zeros(shape=(vocab_size, embed_dim))\n",
    "for word, i in tok.word_index.items():\n",
    "  embed_vector = word_vec_dict.get(word)\n",
    "  if embed_vector is not None:  # word is in the vocabulary learned by the w2v model\n",
    "    embed_matrix[i] = embed_vector\n",
    "  # if word is not found then embed_vector corresponding to that vector will stay zero."
   ]
  },
  {
   "cell_type": "code",
   "execution_count": 43,
   "metadata": {
    "_uuid": "f2053c087cc7c811b4f7cd656ffd078833236632",
    "id": "HaH6QTc865Bn",
    "outputId": "c70d670a-8ee6-430b-df04-1dd9d97cf20f"
   },
   "outputs": [
    {
     "name": "stdout",
     "output_type": "stream",
     "text": [
      "[-0.10109831 -0.32623312 -0.12406533  0.20441994  0.05429294 -0.33107099\n",
      " -0.24819636  0.20220794 -0.0777028  -0.31937572 -0.25895104 -0.07598633\n",
      "  0.28958482  0.03184084  0.51266783 -0.20848595  0.00373299  0.26420665\n",
      " -0.13988915  0.09097411 -0.50062394  0.48248151 -0.30951685 -0.56524354\n",
      " -0.44398668  0.10333417 -0.41385767  0.1626105   0.43071154 -0.65743017\n",
      "  0.21506344 -1.08829176  0.08727539  0.02802736  0.23638614 -0.82044649\n",
      " -0.28325912  0.01256009 -0.19555426  0.09657017  0.49834523  0.34643668\n",
      "  0.53649896  0.48065615 -0.33235079 -0.08337991  0.55731678  0.25142342\n",
      "  0.10602169  0.19220103  0.75360489 -0.12190358  0.15227164 -0.31863025\n",
      " -0.59175032  0.13128233 -0.51055127  0.19567725 -0.59181041  0.29772189\n",
      " -0.07465344 -0.60875332 -0.09420698  0.17859824]\n"
     ]
    }
   ],
   "source": [
    "# checking.\n",
    "print(embed_matrix[14])"
   ]
  },
  {
   "cell_type": "markdown",
   "metadata": {
    "_uuid": "922f83048b341c34a28b49e6114e612b507b87e6",
    "id": "rwoFFrW59Rjk"
   },
   "source": [
    "### PREPARING TRAIN AND VALIDATION SETS."
   ]
  },
  {
   "cell_type": "code",
   "execution_count": 44,
   "metadata": {
    "_uuid": "ff5829cf69c1ac4fdb14c24d9be3c14683363a45",
    "id": "jNGi31a5AHxC"
   },
   "outputs": [],
   "source": [
    "# prepare train and val sets first\n",
    "Y = df['sentiment'].values.astype(np.float32)  # binary labels 0/1\n",
    "x_train, x_test, y_train, y_test = train_test_split(pad_rev, Y, test_size=0.20, random_state=42)"
   ]
  },
  {
   "cell_type": "code",
   "execution_count": 45,
   "metadata": {
    "_uuid": "17b219fa39c7b58d4cc4848e2b8e7ff6d4cd9ae5"
   },
   "outputs": [],
   "source": [
    "def custom_accuracy(threshold=0.8):\n",
    "    def metric(y_true, y_test):\n",
    "        return tf.keras.metrics.binary_accuracy(y_true, tf.cast(y_test >= threshold, tf.float32))\n",
    "    return metric"
   ]
  },
  {
   "cell_type": "markdown",
   "metadata": {
    "_uuid": "e1e22e81bc6a49adaad7c4ca4d36e058f6d672f3"
   },
   "source": [
    "### BUILDING A MODEL AND FINALLY PERFORMING TEXT CLASSIFICATION"
   ]
  },
  {
   "cell_type": "code",
   "execution_count": 46,
   "metadata": {
    "_uuid": "3b1b2e253f0a76b487e2732ffc5f1b32c5e8e0c0",
    "id": "ZmsnBmEf-Ktr"
   },
   "outputs": [],
   "source": [
    "from tensorflow.keras.initializers import Constant\n",
    "from tensorflow.keras.layers import ReLU, Dropout, Conv1D, GlobalMaxPooling1D\n",
    "model = Sequential()\n",
    "model.add(Embedding(\n",
    "    input_dim=vocab_size,\n",
    "    output_dim=embed_dim,\n",
    "    input_shape=(max_rev_len,),  # ensure model can build shapes\n",
    "    embeddings_initializer=Constant(embed_matrix.astype(np.float32)),  # float32 weights\n",
    "    trainable=False\n",
    "))\n",
    "model.add(Conv1D(filters=128, kernel_size=5, activation='relu'))\n",
    "model.add(GlobalMaxPooling1D())\n",
    "model.add(Dense(128, activation='relu'))\n",
    "model.add(Dropout(0.45))\n",
    "# For binary classification, prefer single-unit sigmoid\n",
    "model.add(Dense(1, activation='sigmoid'))"
   ]
  },
  {
   "cell_type": "markdown",
   "metadata": {
    "_uuid": "915d060b56a109792dfff8a8283e6b94dc483773"
   },
   "source": [
    "#### Let us now print a summary of the model."
   ]
  },
  {
   "cell_type": "code",
   "execution_count": 47,
   "metadata": {
    "_uuid": "0bdbc7d142d477bc129b89ab8dc7a606ab07c8b5",
    "id": "arGSpbbd_0E1",
    "outputId": "ee336fa8-6bc6-4b50-84a6-ccefc544ead9"
   },
   "outputs": [
    {
     "data": {
      "text/html": [
       "<pre style=\"white-space:pre;overflow-x:auto;line-height:normal;font-family:Menlo,'DejaVu Sans Mono',consolas,'Courier New',monospace\"><span style=\"font-weight: bold\">Model: \"sequential\"</span>\n",
       "</pre>\n"
      ],
      "text/plain": [
       "\u001b[1mModel: \"sequential\"\u001b[0m\n"
      ]
     },
     "metadata": {},
     "output_type": "display_data"
    },
    {
     "data": {
      "text/html": [
       "<pre style=\"white-space:pre;overflow-x:auto;line-height:normal;font-family:Menlo,'DejaVu Sans Mono',consolas,'Courier New',monospace\">┏━━━━━━━━━━━━━━━━━━━━━━━━━━━━━━━━━┳━━━━━━━━━━━━━━━━━━━━━━━━┳━━━━━━━━━━━━━━━┓\n",
       "┃<span style=\"font-weight: bold\"> Layer (type)                    </span>┃<span style=\"font-weight: bold\"> Output Shape           </span>┃<span style=\"font-weight: bold\">       Param # </span>┃\n",
       "┡━━━━━━━━━━━━━━━━━━━━━━━━━━━━━━━━━╇━━━━━━━━━━━━━━━━━━━━━━━━╇━━━━━━━━━━━━━━━┩\n",
       "│ embedding (<span style=\"color: #0087ff; text-decoration-color: #0087ff\">Embedding</span>)           │ (<span style=\"color: #00d7ff; text-decoration-color: #00d7ff\">None</span>, <span style=\"color: #00af00; text-decoration-color: #00af00\">1565</span>, <span style=\"color: #00af00; text-decoration-color: #00af00\">64</span>)       │     <span style=\"color: #00af00; text-decoration-color: #00af00\">3,610,816</span> │\n",
       "├─────────────────────────────────┼────────────────────────┼───────────────┤\n",
       "│ conv1d (<span style=\"color: #0087ff; text-decoration-color: #0087ff\">Conv1D</span>)                 │ (<span style=\"color: #00d7ff; text-decoration-color: #00d7ff\">None</span>, <span style=\"color: #00af00; text-decoration-color: #00af00\">1561</span>, <span style=\"color: #00af00; text-decoration-color: #00af00\">128</span>)      │        <span style=\"color: #00af00; text-decoration-color: #00af00\">41,088</span> │\n",
       "├─────────────────────────────────┼────────────────────────┼───────────────┤\n",
       "│ global_max_pooling1d            │ (<span style=\"color: #00d7ff; text-decoration-color: #00d7ff\">None</span>, <span style=\"color: #00af00; text-decoration-color: #00af00\">128</span>)            │             <span style=\"color: #00af00; text-decoration-color: #00af00\">0</span> │\n",
       "│ (<span style=\"color: #0087ff; text-decoration-color: #0087ff\">GlobalMaxPooling1D</span>)            │                        │               │\n",
       "├─────────────────────────────────┼────────────────────────┼───────────────┤\n",
       "│ dense (<span style=\"color: #0087ff; text-decoration-color: #0087ff\">Dense</span>)                   │ (<span style=\"color: #00d7ff; text-decoration-color: #00d7ff\">None</span>, <span style=\"color: #00af00; text-decoration-color: #00af00\">128</span>)            │        <span style=\"color: #00af00; text-decoration-color: #00af00\">16,512</span> │\n",
       "├─────────────────────────────────┼────────────────────────┼───────────────┤\n",
       "│ dropout (<span style=\"color: #0087ff; text-decoration-color: #0087ff\">Dropout</span>)               │ (<span style=\"color: #00d7ff; text-decoration-color: #00d7ff\">None</span>, <span style=\"color: #00af00; text-decoration-color: #00af00\">128</span>)            │             <span style=\"color: #00af00; text-decoration-color: #00af00\">0</span> │\n",
       "├─────────────────────────────────┼────────────────────────┼───────────────┤\n",
       "│ dense_1 (<span style=\"color: #0087ff; text-decoration-color: #0087ff\">Dense</span>)                 │ (<span style=\"color: #00d7ff; text-decoration-color: #00d7ff\">None</span>, <span style=\"color: #00af00; text-decoration-color: #00af00\">1</span>)              │           <span style=\"color: #00af00; text-decoration-color: #00af00\">129</span> │\n",
       "└─────────────────────────────────┴────────────────────────┴───────────────┘\n",
       "</pre>\n"
      ],
      "text/plain": [
       "┏━━━━━━━━━━━━━━━━━━━━━━━━━━━━━━━━━┳━━━━━━━━━━━━━━━━━━━━━━━━┳━━━━━━━━━━━━━━━┓\n",
       "┃\u001b[1m \u001b[0m\u001b[1mLayer (type)                   \u001b[0m\u001b[1m \u001b[0m┃\u001b[1m \u001b[0m\u001b[1mOutput Shape          \u001b[0m\u001b[1m \u001b[0m┃\u001b[1m \u001b[0m\u001b[1m      Param #\u001b[0m\u001b[1m \u001b[0m┃\n",
       "┡━━━━━━━━━━━━━━━━━━━━━━━━━━━━━━━━━╇━━━━━━━━━━━━━━━━━━━━━━━━╇━━━━━━━━━━━━━━━┩\n",
       "│ embedding (\u001b[38;5;33mEmbedding\u001b[0m)           │ (\u001b[38;5;45mNone\u001b[0m, \u001b[38;5;34m1565\u001b[0m, \u001b[38;5;34m64\u001b[0m)       │     \u001b[38;5;34m3,610,816\u001b[0m │\n",
       "├─────────────────────────────────┼────────────────────────┼───────────────┤\n",
       "│ conv1d (\u001b[38;5;33mConv1D\u001b[0m)                 │ (\u001b[38;5;45mNone\u001b[0m, \u001b[38;5;34m1561\u001b[0m, \u001b[38;5;34m128\u001b[0m)      │        \u001b[38;5;34m41,088\u001b[0m │\n",
       "├─────────────────────────────────┼────────────────────────┼───────────────┤\n",
       "│ global_max_pooling1d            │ (\u001b[38;5;45mNone\u001b[0m, \u001b[38;5;34m128\u001b[0m)            │             \u001b[38;5;34m0\u001b[0m │\n",
       "│ (\u001b[38;5;33mGlobalMaxPooling1D\u001b[0m)            │                        │               │\n",
       "├─────────────────────────────────┼────────────────────────┼───────────────┤\n",
       "│ dense (\u001b[38;5;33mDense\u001b[0m)                   │ (\u001b[38;5;45mNone\u001b[0m, \u001b[38;5;34m128\u001b[0m)            │        \u001b[38;5;34m16,512\u001b[0m │\n",
       "├─────────────────────────────────┼────────────────────────┼───────────────┤\n",
       "│ dropout (\u001b[38;5;33mDropout\u001b[0m)               │ (\u001b[38;5;45mNone\u001b[0m, \u001b[38;5;34m128\u001b[0m)            │             \u001b[38;5;34m0\u001b[0m │\n",
       "├─────────────────────────────────┼────────────────────────┼───────────────┤\n",
       "│ dense_1 (\u001b[38;5;33mDense\u001b[0m)                 │ (\u001b[38;5;45mNone\u001b[0m, \u001b[38;5;34m1\u001b[0m)              │           \u001b[38;5;34m129\u001b[0m │\n",
       "└─────────────────────────────────┴────────────────────────┴───────────────┘\n"
      ]
     },
     "metadata": {},
     "output_type": "display_data"
    },
    {
     "data": {
      "text/html": [
       "<pre style=\"white-space:pre;overflow-x:auto;line-height:normal;font-family:Menlo,'DejaVu Sans Mono',consolas,'Courier New',monospace\"><span style=\"font-weight: bold\"> Total params: </span><span style=\"color: #00af00; text-decoration-color: #00af00\">3,668,545</span> (13.99 MB)\n",
       "</pre>\n"
      ],
      "text/plain": [
       "\u001b[1m Total params: \u001b[0m\u001b[38;5;34m3,668,545\u001b[0m (13.99 MB)\n"
      ]
     },
     "metadata": {},
     "output_type": "display_data"
    },
    {
     "data": {
      "text/html": [
       "<pre style=\"white-space:pre;overflow-x:auto;line-height:normal;font-family:Menlo,'DejaVu Sans Mono',consolas,'Courier New',monospace\"><span style=\"font-weight: bold\"> Trainable params: </span><span style=\"color: #00af00; text-decoration-color: #00af00\">57,729</span> (225.50 KB)\n",
       "</pre>\n"
      ],
      "text/plain": [
       "\u001b[1m Trainable params: \u001b[0m\u001b[38;5;34m57,729\u001b[0m (225.50 KB)\n"
      ]
     },
     "metadata": {},
     "output_type": "display_data"
    },
    {
     "data": {
      "text/html": [
       "<pre style=\"white-space:pre;overflow-x:auto;line-height:normal;font-family:Menlo,'DejaVu Sans Mono',consolas,'Courier New',monospace\"><span style=\"font-weight: bold\"> Non-trainable params: </span><span style=\"color: #00af00; text-decoration-color: #00af00\">3,610,816</span> (13.77 MB)\n",
       "</pre>\n"
      ],
      "text/plain": [
       "\u001b[1m Non-trainable params: \u001b[0m\u001b[38;5;34m3,610,816\u001b[0m (13.77 MB)\n"
      ]
     },
     "metadata": {},
     "output_type": "display_data"
    }
   ],
   "source": [
    "# Trigger build with a tiny forward pass so summary shows concrete shapes\n",
    "_ = model.predict(np.zeros((1, max_rev_len), dtype=np.int32), verbose=0)\n",
    "model.summary()"
   ]
  },
  {
   "cell_type": "code",
   "execution_count": 48,
   "metadata": {
    "_uuid": "087c686671c54c334bd605a1b76738156f9b975d",
    "id": "rtVq2ncD_2a1"
   },
   "outputs": [],
   "source": [
    "# compile the model\n",
    "model.compile(optimizer=tf.keras.optimizers.Adam(learning_rate=1e-3),\n",
    "              loss='binary_crossentropy',\n",
    "              metrics=['accuracy', custom_accuracy(threshold=0.85)])\n",
    "\n",
    "#nanti visualize buat threshold terbaik buat training datanya."
   ]
  },
  {
   "cell_type": "code",
   "execution_count": 49,
   "metadata": {
    "_uuid": "ed1c7cc4bb2219ca59cf3c777c0222bc2a059083",
    "id": "xn6g-HknAe9A"
   },
   "outputs": [],
   "source": [
    "# specify batch size and epochs for training.\n",
    "epochs=5\n",
    "batch_size=128"
   ]
  },
  {
   "cell_type": "code",
   "execution_count": 50,
   "metadata": {
    "_uuid": "89e963f56a787c2096706fee9357afcf6121290a",
    "id": "gvDNMDeWADh9",
    "outputId": "443f2050-c627-4630-b8f4-3324f7e09c4f"
   },
   "outputs": [
    {
     "name": "stdout",
     "output_type": "stream",
     "text": [
      "Epoch 1/5\n",
      "\u001b[1m625/625\u001b[0m \u001b[32m━━━━━━━━━━━━━━━━━━━━\u001b[0m\u001b[37m\u001b[0m \u001b[1m488s\u001b[0m 775ms/step - accuracy: 0.8011 - loss: 0.4287 - metric: 0.7008 - val_accuracy: 0.8295 - val_loss: 0.3812 - val_metric: 0.7180\n",
      "Epoch 2/5\n",
      "\u001b[1m625/625\u001b[0m \u001b[32m━━━━━━━━━━━━━━━━━━━━\u001b[0m\u001b[37m\u001b[0m \u001b[1m478s\u001b[0m 764ms/step - accuracy: 0.8435 - loss: 0.3590 - metric: 0.7643 - val_accuracy: 0.8395 - val_loss: 0.3598 - val_metric: 0.7753\n",
      "Epoch 3/5\n",
      "\u001b[1m625/625\u001b[0m \u001b[32m━━━━━━━━━━━━━━━━━━━━\u001b[0m\u001b[37m\u001b[0m \u001b[1m481s\u001b[0m 731ms/step - accuracy: 0.8617 - loss: 0.3229 - metric: 0.7922 - val_accuracy: 0.8450 - val_loss: 0.3594 - val_metric: 0.7998\n",
      "Epoch 4/5\n",
      "\u001b[1m625/625\u001b[0m \u001b[32m━━━━━━━━━━━━━━━━━━━━\u001b[0m\u001b[37m\u001b[0m \u001b[1m530s\u001b[0m 776ms/step - accuracy: 0.8760 - loss: 0.2926 - metric: 0.8135 - val_accuracy: 0.8432 - val_loss: 0.3560 - val_metric: 0.7818\n",
      "Epoch 5/5\n",
      "\u001b[1m625/625\u001b[0m \u001b[32m━━━━━━━━━━━━━━━━━━━━\u001b[0m\u001b[37m\u001b[0m \u001b[1m495s\u001b[0m 765ms/step - accuracy: 0.8919 - loss: 0.2606 - metric: 0.8359 - val_accuracy: 0.8371 - val_loss: 0.3773 - val_metric: 0.8096\n"
     ]
    }
   ],
   "source": [
    "# fitting the model\n",
    "history = model.fit(x_train, y_train, epochs=epochs, batch_size=batch_size, validation_data=(x_test, y_test))"
   ]
  },
  {
   "cell_type": "code",
   "execution_count": 51,
   "metadata": {},
   "outputs": [
    {
     "data": {
      "image/png": "[encoded data removed]",
      "text/plain": [
       "<Figure size 1400x1000 with 4 Axes>"
      ]
     },
     "metadata": {},
     "output_type": "display_data"
    },
    {
     "name": "stdout",
     "output_type": "stream",
     "text": [
      "              precision    recall  f1-score   support\n",
      "\n",
      "     Negatif       0.86      0.81      0.83     10167\n",
      "     Positif       0.81      0.87      0.84      9833\n",
      "\n",
      "    accuracy                           0.84     20000\n",
      "   macro avg       0.84      0.84      0.84     20000\n",
      "weighted avg       0.84      0.84      0.84     20000\n",
      "\n",
      "\n",
      "=== Rata-rata Score Prediksi per Label ===\n",
      "      Label  Average Score\n",
      "Negatif (0)       0.245577\n",
      "Positif (1)       0.825830\n",
      "  Rata-rata       0.530858\n"
     ]
    }
   ],
   "source": [
    "# Prediksi probabilitas dan label pada data uji\n",
    "y_prob = model.predict(x_test, verbose=0).ravel()\n",
    "y_pred = (y_prob >= 0.5).astype(int)\n",
    "\n",
    "# Hitung confusion matrix\n",
    "cm = confusion_matrix(y_test, y_pred, labels=[0, 1])\n",
    "cm_norm = cm.astype('float') / cm.sum(axis=1, keepdims=True)\n",
    "\n",
    "# Siapkan figure 2x2\n",
    "fig, axes = plt.subplots(2, 2, figsize=(14, 10))\n",
    "\n",
    "# (1,1) Absolut\n",
    "sns.heatmap(cm, annot=True, fmt='d', cmap='Blues', cbar=False,\n",
    "            xticklabels=['Pred Negatif', 'Pred Positif'],\n",
    "            yticklabels=['Aktual Negatif', 'Aktual Positif'], ax=axes[0, 0])\n",
    "axes[0, 0].set_title('Confusion Matrix (Absolut)')\n",
    "axes[0, 0].set_xlabel('Prediksi')\n",
    "axes[0, 0].set_ylabel('Aktual')\n",
    "\n",
    "# (1,2) Normalisasi baris\n",
    "sns.heatmap(cm_norm, annot=True, fmt='.2f', cmap='Greens', cbar=False,\n",
    "            xticklabels=['Pred Negatif', 'Pred Positif'],\n",
    "            yticklabels=['Aktual Negatif', 'Aktual Positif'], ax=axes[0, 1])\n",
    "axes[0, 1].set_title('Confusion Matrix (Normalisasi)')\n",
    "axes[0, 1].set_xlabel('Prediksi')\n",
    "axes[0, 1].set_ylabel('Aktual')\n",
    "\n",
    "# Ambil akurasi dari history\n",
    "hist = history.history if 'history' in globals() else {}\n",
    "train_acc = hist.get('accuracy') or hist.get('acc')\n",
    "val_acc = hist.get('val_accuracy') or hist.get('val_acc')\n",
    "loss  = hist.get('loss') or hist.get('loss')\n",
    "metric = hist.get('metric') or hist.get('met')\n",
    "val_metric = hist.get('val_metric') or hist.get('val_met')\n",
    "epochs_range = range(1, len(train_acc) + 1) if train_acc else []\n",
    "\n",
    "# (2,1) Plot akurasi training per-epoch\n",
    "axes[1, 0].plot(epochs_range, train_acc, marker='o', label='Train Accuracy') if train_acc else None\n",
    "axes[1, 0].set_title('Akurasi Training per-Epoch')\n",
    "axes[1, 0].set_xlabel('Epoch')\n",
    "axes[1, 0].set_ylabel('Accuracy')\n",
    "axes[1, 0].grid(True, alpha=0.3)\n",
    "axes[1, 0].legend() if train_acc else None\n",
    "\n",
    "# (2,2) Plot akurasi validasi per-epoch\n",
    "axes[1, 1].plot(epochs_range, val_acc, marker='o', color='orange', label='Validation Accuracy') if val_acc else None\n",
    "axes[1, 1].set_title('Akurasi Validasi per-Epoch')\n",
    "axes[1, 1].set_xlabel('Epoch')\n",
    "axes[1, 1].set_ylabel('Accuracy')\n",
    "axes[1, 1].grid(True, alpha=0.3)\n",
    "axes[1, 1].legend() if val_acc else None\n",
    "\n",
    "# (2,1) Plot akurasi training per-epoch\n",
    "axes[1, 0].plot(epochs_range, train_acc, marker='o', label='Train Accuracy (default)') if train_acc else None\n",
    "axes[1, 0].plot(epochs_range, metric, marker='x', linestyle='--', color='red', label='Train Accuracy (custom)') if metric else None\n",
    "axes[1, 0].set_title('Akurasi Training per-Epoch')\n",
    "axes[1, 0].set_xlabel('Epoch')\n",
    "axes[1, 0].set_ylabel('Accuracy')\n",
    "axes[1, 0].grid(True, alpha=0.3)\n",
    "axes[1, 0].legend()\n",
    "\n",
    "# (2,2) Plot akurasi validasi per-epoch\n",
    "axes[1, 1].plot(epochs_range, val_acc, marker='o', color='orange', label='Validation Accuracy (default)') if val_acc else None\n",
    "axes[1, 1].plot(epochs_range, val_metric, marker='x', linestyle='--', color='green', label='Validation Accuracy (custom)') if val_metric else None\n",
    "axes[1, 1].set_title('Akurasi Validasi per-Epoch')\n",
    "axes[1, 1].set_xlabel('Epoch')\n",
    "axes[1, 1].set_ylabel('Accuracy')\n",
    "axes[1, 1].grid(True, alpha=0.3)\n",
    "axes[1, 1].legend()\n",
    "\n",
    "\n",
    "plt.tight_layout()\n",
    "plt.show()\n",
    "\n",
    "# Laporan klasifikasi untuk metrik tambahan\n",
    "print(classification_report(y_test, y_pred, target_names=['Negatif', 'Positif']))\n",
    "\n",
    "# =========================\n",
    "# Tambahan: Akurasi per label\n",
    "# =========================\n",
    "df_scores = pd.DataFrame({\n",
    "    \"y_true\": y_test.ravel().astype(int),\n",
    "    \"y_prob\": y_prob\n",
    "})\n",
    "\n",
    "# Hitung rata-rata score per label\n",
    "avg_scores = df_scores.groupby(\"y_true\")[\"y_prob\"].mean().reset_index()\n",
    "avg_scores[\"Label\"] = avg_scores[\"y_true\"].map({0: \"Negatif (0)\", 1: \"Positif (1)\"})\n",
    "avg_scores = avg_scores[[\"Label\", \"y_prob\"]].rename(columns={\"y_prob\": \"Average Score\"})\n",
    "\n",
    "# Tambahkan rata-rata keseluruhan\n",
    "overall_avg = pd.DataFrame([{\"Label\": \"Rata-rata\", \"Average Score\": df_scores[\"y_prob\"].mean()}])\n",
    "avg_scores = pd.concat([avg_scores, overall_avg], ignore_index=True)\n",
    "\n",
    "print(\"\\n=== Rata-rata Score Prediksi per Label ===\")\n",
    "print(avg_scores.to_string(index=False))"
   ]
  },
  {
   "cell_type": "markdown",
   "metadata": {},
   "source": [
    "nanti yang ini tolong di implement fungsi buat cleaning data sama balancing data."
   ]
  },
  {
   "cell_type": "code",
   "execution_count": 52,
   "metadata": {},
   "outputs": [
    {
     "data": {
      "image/png": "[encoded data removed]",
      "text/plain": [
       "<Figure size 1400x1000 with 4 Axes>"
      ]
     },
     "metadata": {},
     "output_type": "display_data"
    },
    {
     "name": "stdout",
     "output_type": "stream",
     "text": [
      "              precision    recall  f1-score   support\n",
      "\n",
      "     Negatif       0.94      0.90      0.92     39833\n",
      "     Positif       0.90      0.94      0.92     40167\n",
      "\n",
      "    accuracy                           0.92     80000\n",
      "   macro avg       0.92      0.92      0.92     80000\n",
      "weighted avg       0.92      0.92      0.92     80000\n",
      "\n",
      "\n",
      "=== Rata-rata Score Prediksi per Label (Training) ===\n",
      "      Label  Average Score\n",
      "Negatif (0)       0.180583\n",
      "Positif (1)       0.884558\n",
      "  Rata-rata       0.534040\n"
     ]
    }
   ],
   "source": [
    "from sklearn.metrics import confusion_matrix, classification_report\n",
    "import seaborn as sns\n",
    "import matplotlib.pyplot as plt\n",
    "import numpy as np\n",
    "import pandas as pd\n",
    "\n",
    "# Prediksi probabilitas dan label pada data TRAINING\n",
    "y_prob_train = model.predict(x_train, verbose=0).ravel()\n",
    "y_pred_train = (y_prob_train >= 0.5).astype(int)\n",
    "\n",
    "# Hitung confusion matrix\n",
    "cm = confusion_matrix(y_train, y_pred_train, labels=[0, 1])\n",
    "cm_norm = cm.astype('float') / cm.sum(axis=1, keepdims=True)\n",
    "\n",
    "# Siapkan figure 2x2\n",
    "fig, axes = plt.subplots(2, 2, figsize=(14, 10))\n",
    "\n",
    "# (1,1) Confusion Matrix Absolut\n",
    "sns.heatmap(cm, annot=True, fmt='d', cmap='Blues', cbar=False,\n",
    "            xticklabels=['Pred Negatif', 'Pred Positif'],\n",
    "            yticklabels=['Aktual Negatif', 'Aktual Positif'], ax=axes[0, 0])\n",
    "axes[0, 0].set_title('Confusion Matrix (Absolut) - Training')\n",
    "axes[0, 0].set_xlabel('Prediksi')\n",
    "axes[0, 0].set_ylabel('Aktual')\n",
    "\n",
    "# (1,2) Confusion Matrix Normalisasi\n",
    "sns.heatmap(cm_norm, annot=True, fmt='.2f', cmap='Greens', cbar=False,\n",
    "            xticklabels=['Pred Negatif', 'Pred Positif'],\n",
    "            yticklabels=['Aktual Negatif', 'Aktual Positif'], ax=axes[0, 1])\n",
    "axes[0, 1].set_title('Confusion Matrix (Normalisasi) - Training')\n",
    "axes[0, 1].set_xlabel('Prediksi')\n",
    "axes[0, 1].set_ylabel('Aktual')\n",
    "\n",
    "# Ambil akurasi dari history\n",
    "hist = history.history if 'history' in globals() else {}\n",
    "train_acc = hist.get('accuracy') or hist.get('acc')\n",
    "val_acc = hist.get('val_accuracy') or hist.get('val_acc')\n",
    "loss  = hist.get('loss') or hist.get('loss')\n",
    "metric = hist.get('metric') or hist.get('met')\n",
    "val_metric = hist.get('val_metric') or hist.get('val_met')\n",
    "epochs_range = range(1, len(train_acc) + 1) if train_acc else []\n",
    "\n",
    "# (2,1) Plot akurasi training per-epoch\n",
    "axes[1, 0].plot(epochs_range, train_acc, marker='o', label='Train Accuracy (default)') if train_acc else None\n",
    "axes[1, 0].plot(epochs_range, metric, marker='x', linestyle='--', color='red', label='Train Accuracy (custom)') if metric else None\n",
    "axes[1, 0].set_title('Akurasi Training per-Epoch')\n",
    "axes[1, 0].set_xlabel('Epoch')\n",
    "axes[1, 0].set_ylabel('Accuracy')\n",
    "axes[1, 0].grid(True, alpha=0.3)\n",
    "axes[1, 0].legend()\n",
    "\n",
    "# (2,2) Plot akurasi validasi per-epoch\n",
    "axes[1, 1].plot(epochs_range, val_acc, marker='o', color='orange', label='Validation Accuracy (default)') if val_acc else None\n",
    "axes[1, 1].plot(epochs_range, val_metric, marker='x', linestyle='--', color='green', label='Validation Accuracy (custom)') if val_metric else None\n",
    "axes[1, 1].set_title('Akurasi Validasi per-Epoch')\n",
    "axes[1, 1].set_xlabel('Epoch')\n",
    "axes[1, 1].set_ylabel('Accuracy')\n",
    "axes[1, 1].grid(True, alpha=0.3)\n",
    "axes[1, 1].legend()\n",
    "\n",
    "plt.tight_layout()\n",
    "plt.show()\n",
    "\n",
    "# Laporan klasifikasi untuk data TRAINING\n",
    "print(classification_report(y_train, y_pred_train, target_names=['Negatif', 'Positif']))\n",
    "\n",
    "# =========================\n",
    "# Tambahan: Rata-rata Score Prediksi per Label - Training\n",
    "# =========================\n",
    "df_scores = pd.DataFrame({\n",
    "    \"y_true\": y_train.ravel().astype(int),\n",
    "    \"y_prob\": y_prob_train\n",
    "})\n",
    "\n",
    "# Hitung rata-rata score per label\n",
    "avg_scores = df_scores.groupby(\"y_true\")[\"y_prob\"].mean().reset_index()\n",
    "avg_scores[\"Label\"] = avg_scores[\"y_true\"].map({0: \"Negatif (0)\", 1: \"Positif (1)\"})\n",
    "avg_scores = avg_scores[[\"Label\", \"y_prob\"]].rename(columns={\"y_prob\": \"Average Score\"})\n",
    "\n",
    "# Tambahkan rata-rata keseluruhan\n",
    "overall_avg = pd.DataFrame([{\"Label\": \"Rata-rata\", \"Average Score\": df_scores[\"y_prob\"].mean()}])\n",
    "avg_scores = pd.concat([avg_scores, overall_avg], ignore_index=True)\n",
    "\n",
    "print(\"\\n=== Rata-rata Score Prediksi per Label (Training) ===\")\n",
    "print(avg_scores.to_string(index=False))\n"
   ]
  },
  {
   "cell_type": "code",
   "execution_count": 53,
   "metadata": {},
   "outputs": [
    {
     "name": "stderr",
     "output_type": "stream",
     "text": [
      "WARNING:absl:You are saving your model as an HDF5 file via `model.save()` or `keras.saving.save_model(model)`. This file format is considered legacy. We recommend using instead the native Keras format, e.g. `model.save('my_model.keras')` or `keras.saving.save_model(model, 'my_model.keras')`. \n"
     ]
    }
   ],
   "source": [
    "model.save(\"sentiment_analysis_model.h5\")"
   ]
  },
  {
   "cell_type": "code",
   "execution_count": 54,
   "metadata": {},
   "outputs": [
    {
     "name": "stdout",
     "output_type": "stream",
     "text": [
      "Jumlah data setelah sampling seimbang:\n",
      "label\n",
      "0    10000\n",
      "1    10000\n",
      "Name: count, dtype: int64\n",
      "\n",
      "=== Evaluasi Threshold 0.5 (default) ===\n",
      "Accuracy : 0.825\n",
      "Precision: 0.857\n",
      "Recall   : 0.780\n",
      "F1-score : 0.817\n",
      "\n",
      "=== Evaluasi Threshold 0.75 (custom) ===\n",
      "Accuracy : 0.797\n",
      "Precision: 0.931\n",
      "Recall   : 0.642\n",
      "F1-score : 0.760\n",
      "\n",
      "=== Threshold terbaik berdasarkan F1 ===\n",
      "Threshold: 0.30\n",
      "Accuracy : 0.821\n",
      "Precision: 0.791\n",
      "Recall   : 0.873\n",
      "F1-score : 0.830\n"
     ]
    },
    {
     "data": {
      "image/png": "[encoded data removed]",
      "text/plain": [
       "<Figure size 1000x600 with 1 Axes>"
      ]
     },
     "metadata": {},
     "output_type": "display_data"
    },
    {
     "data": {
      "text/html": [
       "<div>\n",
       "<style scoped>\n",
       "    .dataframe tbody tr th:only-of-type {\n",
       "        vertical-align: middle;\n",
       "    }\n",
       "\n",
       "    .dataframe tbody tr th {\n",
       "        vertical-align: top;\n",
       "    }\n",
       "\n",
       "    .dataframe thead th {\n",
       "        text-align: right;\n",
       "    }\n",
       "</style>\n",
       "<table border=\"1\" class=\"dataframe\">\n",
       "  <thead>\n",
       "    <tr style=\"text-align: right;\">\n",
       "      <th></th>\n",
       "      <th>review</th>\n",
       "      <th>rating</th>\n",
       "      <th>score</th>\n",
       "      <th>prediksi</th>\n",
       "      <th>actual</th>\n",
       "      <th>confusion</th>\n",
       "    </tr>\n",
       "  </thead>\n",
       "  <tbody>\n",
       "    <tr>\n",
       "      <th>0</th>\n",
       "      <td>These are VERY dangerous for your dog.  When e...</td>\n",
       "      <td>1</td>\n",
       "      <td>0.648489</td>\n",
       "      <td>negative</td>\n",
       "      <td>negative</td>\n",
       "      <td>TN</td>\n",
       "    </tr>\n",
       "    <tr>\n",
       "      <th>1</th>\n",
       "      <td>What's the best thing for a pregnant woman? Cr...</td>\n",
       "      <td>5</td>\n",
       "      <td>0.998940</td>\n",
       "      <td>positive</td>\n",
       "      <td>positive</td>\n",
       "      <td>TP</td>\n",
       "    </tr>\n",
       "    <tr>\n",
       "      <th>2</th>\n",
       "      <td>Although I carefully followed the directions, ...</td>\n",
       "      <td>2</td>\n",
       "      <td>0.001422</td>\n",
       "      <td>negative</td>\n",
       "      <td>negative</td>\n",
       "      <td>TN</td>\n",
       "    </tr>\n",
       "    <tr>\n",
       "      <th>3</th>\n",
       "      <td>The boys love it!  When they are driving me cr...</td>\n",
       "      <td>5</td>\n",
       "      <td>0.982371</td>\n",
       "      <td>positive</td>\n",
       "      <td>positive</td>\n",
       "      <td>TP</td>\n",
       "    </tr>\n",
       "    <tr>\n",
       "      <th>4</th>\n",
       "      <td>Misleading description of product. Wrong pictu...</td>\n",
       "      <td>1</td>\n",
       "      <td>0.013486</td>\n",
       "      <td>negative</td>\n",
       "      <td>negative</td>\n",
       "      <td>TN</td>\n",
       "    </tr>\n",
       "    <tr>\n",
       "      <th>5</th>\n",
       "      <td>You know after reading the other review I was ...</td>\n",
       "      <td>5</td>\n",
       "      <td>0.984441</td>\n",
       "      <td>positive</td>\n",
       "      <td>positive</td>\n",
       "      <td>TP</td>\n",
       "    </tr>\n",
       "    <tr>\n",
       "      <th>6</th>\n",
       "      <td>This \"Baby White\" popcorn pops small and somew...</td>\n",
       "      <td>1</td>\n",
       "      <td>0.090848</td>\n",
       "      <td>negative</td>\n",
       "      <td>negative</td>\n",
       "      <td>TN</td>\n",
       "    </tr>\n",
       "    <tr>\n",
       "      <th>7</th>\n",
       "      <td>For anyone who needs to send a gift to someone...</td>\n",
       "      <td>5</td>\n",
       "      <td>0.813580</td>\n",
       "      <td>positive</td>\n",
       "      <td>positive</td>\n",
       "      <td>TP</td>\n",
       "    </tr>\n",
       "    <tr>\n",
       "      <th>8</th>\n",
       "      <td>I was hesitant of buying this product since th...</td>\n",
       "      <td>1</td>\n",
       "      <td>0.001744</td>\n",
       "      <td>negative</td>\n",
       "      <td>negative</td>\n",
       "      <td>TN</td>\n",
       "    </tr>\n",
       "    <tr>\n",
       "      <th>9</th>\n",
       "      <td>I would love to review it but I have not recei...</td>\n",
       "      <td>1</td>\n",
       "      <td>0.046209</td>\n",
       "      <td>negative</td>\n",
       "      <td>negative</td>\n",
       "      <td>TN</td>\n",
       "    </tr>\n",
       "    <tr>\n",
       "      <th>10</th>\n",
       "      <td>This truffle sea salt is excellent! For me, mo...</td>\n",
       "      <td>5</td>\n",
       "      <td>0.892179</td>\n",
       "      <td>positive</td>\n",
       "      <td>positive</td>\n",
       "      <td>TP</td>\n",
       "    </tr>\n",
       "    <tr>\n",
       "      <th>11</th>\n",
       "      <td>This was the 2nd time that I ordered the Smoke...</td>\n",
       "      <td>1</td>\n",
       "      <td>0.649641</td>\n",
       "      <td>negative</td>\n",
       "      <td>negative</td>\n",
       "      <td>TN</td>\n",
       "    </tr>\n",
       "    <tr>\n",
       "      <th>12</th>\n",
       "      <td>Switch is a tangy drink that's more reminiscen...</td>\n",
       "      <td>2</td>\n",
       "      <td>0.478751</td>\n",
       "      <td>negative</td>\n",
       "      <td>negative</td>\n",
       "      <td>TN</td>\n",
       "    </tr>\n",
       "    <tr>\n",
       "      <th>13</th>\n",
       "      <td>I paid twice as much for shipping as the cost ...</td>\n",
       "      <td>1</td>\n",
       "      <td>0.004883</td>\n",
       "      <td>negative</td>\n",
       "      <td>negative</td>\n",
       "      <td>TN</td>\n",
       "    </tr>\n",
       "    <tr>\n",
       "      <th>14</th>\n",
       "      <td>This is a great product and hard to find in gr...</td>\n",
       "      <td>5</td>\n",
       "      <td>0.986252</td>\n",
       "      <td>positive</td>\n",
       "      <td>positive</td>\n",
       "      <td>TP</td>\n",
       "    </tr>\n",
       "    <tr>\n",
       "      <th>15</th>\n",
       "      <td>My pups love their bones.  Buying eighty bones...</td>\n",
       "      <td>5</td>\n",
       "      <td>0.948593</td>\n",
       "      <td>positive</td>\n",
       "      <td>positive</td>\n",
       "      <td>TP</td>\n",
       "    </tr>\n",
       "    <tr>\n",
       "      <th>16</th>\n",
       "      <td>I bought these because someone said they were ...</td>\n",
       "      <td>3</td>\n",
       "      <td>0.592053</td>\n",
       "      <td>negative</td>\n",
       "      <td>positive</td>\n",
       "      <td>FN</td>\n",
       "    </tr>\n",
       "    <tr>\n",
       "      <th>17</th>\n",
       "      <td>My cats would kill for this!!  Can't live with...</td>\n",
       "      <td>5</td>\n",
       "      <td>0.965573</td>\n",
       "      <td>positive</td>\n",
       "      <td>positive</td>\n",
       "      <td>TP</td>\n",
       "    </tr>\n",
       "    <tr>\n",
       "      <th>18</th>\n",
       "      <td>I have 2 Boston Bull Terriers that are finicky...</td>\n",
       "      <td>5</td>\n",
       "      <td>0.602302</td>\n",
       "      <td>negative</td>\n",
       "      <td>positive</td>\n",
       "      <td>FN</td>\n",
       "    </tr>\n",
       "    <tr>\n",
       "      <th>19</th>\n",
       "      <td>At first I thought I liked it but then I got a...</td>\n",
       "      <td>3</td>\n",
       "      <td>0.846711</td>\n",
       "      <td>positive</td>\n",
       "      <td>positive</td>\n",
       "      <td>TP</td>\n",
       "    </tr>\n",
       "  </tbody>\n",
       "</table>\n",
       "</div>"
      ],
      "text/plain": [
       "                                               review  rating     score  \\\n",
       "0   These are VERY dangerous for your dog.  When e...       1  0.648489   \n",
       "1   What's the best thing for a pregnant woman? Cr...       5  0.998940   \n",
       "2   Although I carefully followed the directions, ...       2  0.001422   \n",
       "3   The boys love it!  When they are driving me cr...       5  0.982371   \n",
       "4   Misleading description of product. Wrong pictu...       1  0.013486   \n",
       "5   You know after reading the other review I was ...       5  0.984441   \n",
       "6   This \"Baby White\" popcorn pops small and somew...       1  0.090848   \n",
       "7   For anyone who needs to send a gift to someone...       5  0.813580   \n",
       "8   I was hesitant of buying this product since th...       1  0.001744   \n",
       "9   I would love to review it but I have not recei...       1  0.046209   \n",
       "10  This truffle sea salt is excellent! For me, mo...       5  0.892179   \n",
       "11  This was the 2nd time that I ordered the Smoke...       1  0.649641   \n",
       "12  Switch is a tangy drink that's more reminiscen...       2  0.478751   \n",
       "13  I paid twice as much for shipping as the cost ...       1  0.004883   \n",
       "14  This is a great product and hard to find in gr...       5  0.986252   \n",
       "15  My pups love their bones.  Buying eighty bones...       5  0.948593   \n",
       "16  I bought these because someone said they were ...       3  0.592053   \n",
       "17  My cats would kill for this!!  Can't live with...       5  0.965573   \n",
       "18  I have 2 Boston Bull Terriers that are finicky...       5  0.602302   \n",
       "19  At first I thought I liked it but then I got a...       3  0.846711   \n",
       "\n",
       "    prediksi    actual confusion  \n",
       "0   negative  negative        TN  \n",
       "1   positive  positive        TP  \n",
       "2   negative  negative        TN  \n",
       "3   positive  positive        TP  \n",
       "4   negative  negative        TN  \n",
       "5   positive  positive        TP  \n",
       "6   negative  negative        TN  \n",
       "7   positive  positive        TP  \n",
       "8   negative  negative        TN  \n",
       "9   negative  negative        TN  \n",
       "10  positive  positive        TP  \n",
       "11  negative  negative        TN  \n",
       "12  negative  negative        TN  \n",
       "13  negative  negative        TN  \n",
       "14  positive  positive        TP  \n",
       "15  positive  positive        TP  \n",
       "16  negative  positive        FN  \n",
       "17  positive  positive        TP  \n",
       "18  negative  positive        FN  \n",
       "19  positive  positive        TP  "
      ]
     },
     "metadata": {},
     "output_type": "display_data"
    },
    {
     "name": "stdout",
     "output_type": "stream",
     "text": [
      "\n",
      "Ringkasan jumlah per kategori confusion:\n",
      "confusion\n",
      "TN    381\n",
      "TP    257\n",
      "FN    143\n",
      "FP     19\n"
     ]
    },
    {
     "data": {
      "text/html": [
       "<div>\n",
       "<style scoped>\n",
       "    .dataframe tbody tr th:only-of-type {\n",
       "        vertical-align: middle;\n",
       "    }\n",
       "\n",
       "    .dataframe tbody tr th {\n",
       "        vertical-align: top;\n",
       "    }\n",
       "\n",
       "    .dataframe thead th {\n",
       "        text-align: right;\n",
       "    }\n",
       "</style>\n",
       "<table border=\"1\" class=\"dataframe\">\n",
       "  <thead>\n",
       "    <tr style=\"text-align: right;\">\n",
       "      <th></th>\n",
       "      <th>text</th>\n",
       "      <th>clean</th>\n",
       "      <th>score</th>\n",
       "      <th>prediksi</th>\n",
       "    </tr>\n",
       "  </thead>\n",
       "  <tbody>\n",
       "    <tr>\n",
       "      <th>0</th>\n",
       "      <td>I love this product! It tastes amazing and I w...</td>\n",
       "      <td>love product taste amazing order</td>\n",
       "      <td>0.981921</td>\n",
       "      <td>positive</td>\n",
       "    </tr>\n",
       "    <tr>\n",
       "      <th>1</th>\n",
       "      <td>The packaging was terrible and half of the pro...</td>\n",
       "      <td>packaging terrible half product spilled</td>\n",
       "      <td>0.009138</td>\n",
       "      <td>negative</td>\n",
       "    </tr>\n",
       "    <tr>\n",
       "      <th>2</th>\n",
       "      <td>Best purchase I have made, excellent flavor an...</td>\n",
       "      <td>best purchase made excellent flavor quality</td>\n",
       "      <td>0.990534</td>\n",
       "      <td>positive</td>\n",
       "    </tr>\n",
       "    <tr>\n",
       "      <th>3</th>\n",
       "      <td>Very disappointed, I expected much better for ...</td>\n",
       "      <td>disappointed expected much better price</td>\n",
       "      <td>0.115520</td>\n",
       "      <td>negative</td>\n",
       "    </tr>\n",
       "    <tr>\n",
       "      <th>4</th>\n",
       "      <td>The texture was strange and I couldn’t finish it.</td>\n",
       "      <td>texture strange finish</td>\n",
       "      <td>0.032126</td>\n",
       "      <td>negative</td>\n",
       "    </tr>\n",
       "    <tr>\n",
       "      <th>...</th>\n",
       "      <td>...</td>\n",
       "      <td>...</td>\n",
       "      <td>...</td>\n",
       "      <td>...</td>\n",
       "    </tr>\n",
       "    <tr>\n",
       "      <th>94</th>\n",
       "      <td>Absolutely loved it, can’t wait to order again.</td>\n",
       "      <td>absolutely loved wait order</td>\n",
       "      <td>0.995043</td>\n",
       "      <td>positive</td>\n",
       "    </tr>\n",
       "    <tr>\n",
       "      <th>95</th>\n",
       "      <td>Couldn’t finish it, very disappointing.</td>\n",
       "      <td>finish disappointing</td>\n",
       "      <td>0.005452</td>\n",
       "      <td>negative</td>\n",
       "    </tr>\n",
       "    <tr>\n",
       "      <th>96</th>\n",
       "      <td>It’s decent, but I’ve had better.</td>\n",
       "      <td>decent better</td>\n",
       "      <td>0.349186</td>\n",
       "      <td>negative</td>\n",
       "    </tr>\n",
       "    <tr>\n",
       "      <th>97</th>\n",
       "      <td>The flavor is bold and unique, I love it.</td>\n",
       "      <td>flavor bold unique love</td>\n",
       "      <td>0.966214</td>\n",
       "      <td>positive</td>\n",
       "    </tr>\n",
       "    <tr>\n",
       "      <th>98</th>\n",
       "      <td>Super salty, not enjoyable at all.</td>\n",
       "      <td>super salty enjoyable</td>\n",
       "      <td>0.562729</td>\n",
       "      <td>negative</td>\n",
       "    </tr>\n",
       "  </tbody>\n",
       "</table>\n",
       "<p>99 rows × 4 columns</p>\n",
       "</div>"
      ],
      "text/plain": [
       "                                                 text  \\\n",
       "0   I love this product! It tastes amazing and I w...   \n",
       "1   The packaging was terrible and half of the pro...   \n",
       "2   Best purchase I have made, excellent flavor an...   \n",
       "3   Very disappointed, I expected much better for ...   \n",
       "4   The texture was strange and I couldn’t finish it.   \n",
       "..                                                ...   \n",
       "94    Absolutely loved it, can’t wait to order again.   \n",
       "95            Couldn’t finish it, very disappointing.   \n",
       "96                  It’s decent, but I’ve had better.   \n",
       "97          The flavor is bold and unique, I love it.   \n",
       "98                 Super salty, not enjoyable at all.   \n",
       "\n",
       "                                          clean     score  prediksi  \n",
       "0              love product taste amazing order  0.981921  positive  \n",
       "1       packaging terrible half product spilled  0.009138  negative  \n",
       "2   best purchase made excellent flavor quality  0.990534  positive  \n",
       "3       disappointed expected much better price  0.115520  negative  \n",
       "4                        texture strange finish  0.032126  negative  \n",
       "..                                          ...       ...       ...  \n",
       "94                  absolutely loved wait order  0.995043  positive  \n",
       "95                         finish disappointing  0.005452  negative  \n",
       "96                                decent better  0.349186  negative  \n",
       "97                      flavor bold unique love  0.966214  positive  \n",
       "98                        super salty enjoyable  0.562729  negative  \n",
       "\n",
       "[99 rows x 4 columns]"
      ]
     },
     "execution_count": 54,
     "metadata": {},
     "output_type": "execute_result"
    }
   ],
   "source": [
    "# ==== Testing otomatis dengan Reviews.csv + 20% validation + prediksi manual ====\n",
    "# ====== Konfigurasi ======\n",
    "THRESH = 0.75\n",
    "LABEL_TEXT = {0: \"negative\", 1: \"positive\"}\n",
    "MAX_SAMPLES_PER_LABEL = 10000  # contoh, sesuaikan dengan kebutuhan\n",
    "# ====== Ambil referensi tokenizer dan panjang urutan ======\n",
    "try:\n",
    "    tok_ = tok\n",
    "except NameError:\n",
    "    tok_ = tokenizer\n",
    "try:\n",
    "    max_len = max_rev_len\n",
    "except NameError:\n",
    "    try:\n",
    "        max_len = max_review_length\n",
    "    except NameError:\n",
    "        max_len = int(getattr(model.input_shape, \"__getitem__\", lambda x: [None, 256])[1])\n",
    "# ====== Load ulang Reviews.csv ======\n",
    "df = pd.read_csv(\"Reviews.csv\", usecols=[\"Text\", \"Score\"])\n",
    "# Hanya rating 1–5 dan hapus missing\n",
    "df = df[df[\"Score\"].between(1, 5)].dropna()\n",
    "# Hapus duplikat berdasarkan kolom Text dan Score\n",
    "df = df.drop_duplicates(subset=[\"Text\", \"Score\"]).reset_index(drop=True)\n",
    "# Binerisasi label\n",
    "df[\"label\"] = (df[\"Score\"] >= 3).astype(int)\n",
    "# Bersihkan teks\n",
    "df[\"clean_text\"] = df[\"Text\"].apply(clean_reviews)\n",
    "# ====== Sampling seimbang per label ======\n",
    "balanced_df = (\n",
    "    df.groupby(\"label\", group_keys=False)\n",
    "      .apply(lambda x: x.sample(n=min(MAX_SAMPLES_PER_LABEL, len(x)), random_state=42))\n",
    "      .reset_index(drop=True)\n",
    ")\n",
    "print(\"Jumlah data setelah sampling seimbang:\")\n",
    "print(balanced_df[\"label\"].value_counts())\n",
    "# ====== Split train/val ======\n",
    "X_train, X_val, y_train, y_val = train_test_split(\n",
    "    balanced_df[[\"Text\", \"Score\"]], balanced_df[\"label\"],   # <== ambil Text + Score\n",
    "    test_size=0.2, random_state=123, stratify=balanced_df[\"label\"]\n",
    ")\n",
    "# ====== Ambil 20% subset dari validation set ======\n",
    "X_eval, _, y_eval, _ = train_test_split(\n",
    "    X_val, y_val, test_size=0.80, random_state=123, stratify=y_val\n",
    ")\n",
    "# ====== Tokenisasi & padding ======\n",
    "seqs = tok_.texts_to_sequences(X_eval[\"Text\"])\n",
    "pad_eval = pad_sequences(seqs, maxlen=max_len, padding=\"post\", truncating=\"post\")\n",
    "# ====== Prediksi ======\n",
    "y_prob = model.predict(pad_eval, verbose=0).ravel()\n",
    "# ====== Evaluasi threshold default (0.5) dan custom (0.75) ======\n",
    "y_pred_default = (y_prob >= 0.5).astype(int)\n",
    "y_pred_custom  = (y_prob >= THRESH).astype(int)\n",
    "print(\"\\n=== Evaluasi Threshold 0.5 (default) ===\")\n",
    "print(f\"Accuracy : {accuracy_score(y_eval, y_pred_default):.3f}\")\n",
    "print(f\"Precision: {precision_score(y_eval, y_pred_default, zero_division=0):.3f}\")\n",
    "print(f\"Recall   : {recall_score(y_eval, y_pred_default):.3f}\")\n",
    "print(f\"F1-score : {f1_score(y_eval, y_pred_default):.3f}\")\n",
    "print(\"\\n=== Evaluasi Threshold 0.75 (custom) ===\")\n",
    "print(f\"Accuracy : {accuracy_score(y_eval, y_pred_custom):.3f}\")\n",
    "print(f\"Precision: {precision_score(y_eval, y_pred_custom, zero_division=0):.3f}\")\n",
    "print(f\"Recall   : {recall_score(y_eval, y_pred_custom):.3f}\")\n",
    "print(f\"F1-score : {f1_score(y_eval, y_pred_custom):.3f}\")\n",
    "# ====== Analisis threshold grid search (0.0–1.0) ======\n",
    "thresholds = np.linspace(0, 1, 101)\n",
    "precisions, recalls, f1s, accs = [], [], [], []\n",
    "for t in thresholds:\n",
    "    y_pred_t = (y_prob >= t).astype(int)\n",
    "    precisions.append(precision_score(y_eval, y_pred_t, zero_division=0))\n",
    "    recalls.append(recall_score(y_eval, y_pred_t))\n",
    "    f1s.append(f1_score(y_eval, y_pred_t))\n",
    "    accs.append(accuracy_score(y_eval, y_pred_t))\n",
    "best_idx = np.argmax(f1s)\n",
    "best_thresh = thresholds[best_idx]\n",
    "print(f\"\\n=== Threshold terbaik berdasarkan F1 ===\")\n",
    "print(f\"Threshold: {best_thresh:.2f}\")\n",
    "print(f\"Accuracy : {accs[best_idx]:.3f}\")\n",
    "print(f\"Precision: {precisions[best_idx]:.3f}\")\n",
    "print(f\"Recall   : {recalls[best_idx]:.3f}\")\n",
    "print(f\"F1-score : {f1s[best_idx]:.3f}\")\n",
    "# ====== Plot metrik vs threshold ======\n",
    "plt.figure(figsize=(10,6))\n",
    "plt.plot(thresholds, precisions, label=\"Precision\", linewidth=2)\n",
    "plt.plot(thresholds, recalls, label=\"Recall\", linewidth=2)\n",
    "plt.plot(thresholds, f1s, label=\"F1-score\", linewidth=2)\n",
    "plt.plot(thresholds, accs, label=\"Accuracy\", linewidth=2)\n",
    "plt.axvline(0.5, color=\"blue\", linestyle=\"--\", label=\"Default Threshold = 0.50\")\n",
    "plt.axvline(THRESH, color=\"green\", linestyle=\"--\", label=f\"Custom Threshold = {THRESH}\")\n",
    "plt.axvline(best_thresh, color=\"red\", linestyle=\"--\", label=f\"Best Threshold (F1) = {best_thresh:.2f}\")\n",
    "plt.xlabel(\"Threshold\")\n",
    "plt.ylabel(\"Score (0–1)\")\n",
    "plt.title(\"Performa Model pada Berbagai Threshold\")\n",
    "plt.legend(loc=\"best\")\n",
    "plt.grid(True, linestyle=\"--\", alpha=0.7)\n",
    "plt.show()\n",
    "# ====== Konversi ke teks ======\n",
    "pred_text = [LABEL_TEXT[p] for p in y_pred_custom]\n",
    "act_text  = [LABEL_TEXT[a] for a in y_eval]\n",
    "def confusion_type(p, a):\n",
    "    if p == 1 and a == 1: return \"TP\"\n",
    "    if p == 0 and a == 0: return \"TN\"\n",
    "    if p == 1 and a == 0: return \"FP\"\n",
    "    return \"FN\"\n",
    "verdict = [confusion_type(p, a) for p, a in zip(y_pred_custom, y_eval)]\n",
    "results_df = pd.DataFrame({\n",
    "    \"review\": X_eval[\"Text\"].values,\n",
    "    \"rating\": X_eval[\"Score\"].values,\n",
    "    \"score\": y_prob,\n",
    "    \"prediksi\": pred_text,\n",
    "    \"actual\": act_text,\n",
    "    \"confusion\": verdict\n",
    "})\n",
    "display(results_df.head(20))\n",
    "print(\"\\nRingkasan jumlah per kategori confusion:\")\n",
    "print(results_df[\"confusion\"].value_counts().to_string())\n",
    "# ====== Fungsi prediksi manual ======\n",
    "def predict_manual(texts, threshold=THRESH):\n",
    "    if isinstance(texts, str):\n",
    "        texts = [texts]\n",
    "    cleaned = [clean_reviews(t) for t in texts]\n",
    "    seq = tok_.texts_to_sequences(cleaned)\n",
    "    pad = pad_sequences(seq, maxlen=max_len, padding=\"post\", truncating=\"post\")\n",
    "    probs = model.predict(pad, verbose=0).ravel()\n",
    "    preds = (probs >= threshold).astype(int)\n",
    "    return pd.DataFrame({\n",
    "        \"text\": texts,\n",
    "        \"clean\": cleaned,\n",
    "        \"score\": probs,\n",
    "        \"prediksi\": [LABEL_TEXT[int(p)] for p in preds]\n",
    "    })\n",
    "predict_manual([\n",
    "    # === contoh dari dataset + manual (total ~100) ===\n",
    "    \"I love this product! It tastes amazing and I will order it again.\",\n",
    "    \"The packaging was terrible and half of the product was spilled.\",\n",
    "    \"Best purchase I have made, excellent flavor and quality.\",\n",
    "    \"Very disappointed, I expected much better for the price.\",\n",
    "    \"The texture was strange and I couldn’t finish it.\",\n",
    "    \"Perfect snack for my kids, they really enjoyed it.\",\n",
    "    \"I will never buy this again, total waste of money.\",\n",
    "    \"Great product, arrived fresh and delicious.\",\n",
    "    \"Not bad, but not as good as I hoped.\",\n",
    "    \"The cookies were stale and had no flavor.\",\n",
    "    \"Outstanding product, exceeded my expectations.\",\n",
    "    \"Really awful taste, threw it in the trash.\",\n",
    "    \"Highly recommend, this is my new favorite brand.\",\n",
    "    \"Mediocre at best, wouldn’t recommend to friends.\",\n",
    "    \"Fresh, crispy, and very tasty.\",\n",
    "    \"Terrible customer service and poor product quality.\",\n",
    "    \"Absolutely loved it, will stock up on this.\",\n",
    "    \"Too salty and unhealthy, not worth it.\",\n",
    "    \"Perfect balance of flavor and price.\",\n",
    "    \"Extremely disappointed, tasted like cardboard.\",\n",
    "    \"It was okay, nothing special.\",\n",
    "    \"The tea was very soothing and delicious.\",\n",
    "    \"Worst coffee I’ve ever had.\",\n",
    "    \"My whole family enjoyed this snack.\",\n",
    "    \"Cheaply made and bland.\",\n",
    "    \"The chocolate was smooth and rich.\",\n",
    "    \"Mold inside the package, disgusting!\",\n",
    "    \"Arrived quickly and tasted fresh.\",\n",
    "    \"Horrible aftertaste, couldn’t eat more than one bite.\",\n",
    "    \"This is the best granola I’ve ever tried.\",\n",
    "    \"The pasta was broken and unusable.\",\n",
    "    \"Fantastic quality, I’m very satisfied.\",\n",
    "    \"Not fresh, expired taste.\",\n",
    "    \"Delicious and healthy, perfect for my diet.\",\n",
    "    \"Way too sweet, almost inedible.\",\n",
    "    \"Very authentic flavor, reminds me of home.\",\n",
    "    \"Bad smell and tasted spoiled.\",\n",
    "    \"Five stars, will purchase again soon.\",\n",
    "    \"Poorly packaged, lots of crumbs inside.\",\n",
    "    \"Delightful taste and good portion size.\",\n",
    "    \"Did not meet my expectations at all.\",\n",
    "    \"Yummy! My kids loved it.\",\n",
    "    \"Awful, very disappointed with this brand.\",\n",
    "    \"Great value for the price.\",\n",
    "    \"Tasted old and unpleasant.\",\n",
    "    \"Crispy, fresh, and perfect for snacking.\",\n",
    "    \"Wouldn’t buy again, tasted artificial.\",\n",
    "    \"Excellent quality, worth every penny.\",\n",
    "    \"Terrible experience, product arrived damaged.\",\n",
    "    \"Simply amazing, loved every bite.\",\n",
    "    # --- Manual tambahan ---\n",
    "    \"the product was terrible, I want my money back\",\n",
    "    \"amazing quality, will definitely buy again\",\n",
    "    \"so-so, not too bad but not great either\",\n",
    "    \":unamused::unamused:\",\n",
    "    \"This snack makes me happy every morning!\",\n",
    "    \"I regret buying this, totally not worth it.\",\n",
    "    \"Hands down the best product I have purchased online.\",\n",
    "    \"My order arrived late and the box was crushed.\",\n",
    "    \"Taste was fine, but portion size is too small.\",\n",
    "    \"Surprisingly delicious, I didn’t expect much.\",\n",
    "    \"I hate the flavor, very chemical taste.\",\n",
    "    \"The texture is perfect, crunchy and fresh.\",\n",
    "    \"Disappointing purchase, won’t repeat again.\",\n",
    "    \"Absolutely fantastic, exceeded my expectations.\",\n",
    "    \"Not recommended, flavorless and boring.\",\n",
    "    \"My kids keep asking for more, they love it!\",\n",
    "    \"Disgusting smell when I opened the bag.\",\n",
    "    \"One of the best purchases I have made this year.\",\n",
    "    \"Cheap quality product, very disappointed.\",\n",
    "    \"Honestly, I’ve had better for half the price.\",\n",
    "    \"I enjoyed every single bite of this snack.\",\n",
    "    \"Worst packaging ever, completely unacceptable.\",\n",
    "    \"The taste is average, nothing to complain about.\",\n",
    "    \"Really good, I’ll buy this again soon.\",\n",
    "    \"Too bitter for my liking.\",\n",
    "    \"So yummy, I ate the whole bag in one sitting.\",\n",
    "    \"Bad product, I feel scammed.\",\n",
    "    \"The best snack to pair with coffee.\",\n",
    "    \"Terrible, I wouldn’t feed this to my dog.\",\n",
    "    \"Tastes homemade and very fresh.\",\n",
    "    \"Lacked flavor, I was expecting more.\",\n",
    "    \"Absolutely delicious, my friends loved it too.\",\n",
    "    \"Total waste of money, don’t buy this.\",\n",
    "    \"Surprisingly tasty, exceeded my expectations.\",\n",
    "    \"Too oily and greasy for me.\",\n",
    "    \"Perfectly seasoned, I really enjoyed it.\",\n",
    "    \"Wouldn’t recommend, bad aftertaste.\",\n",
    "    \"Fantastic! Will definitely reorder soon.\",\n",
    "    \"Not good, the flavor is very artificial.\",\n",
    "    \"This made me smile, such a good product!\",\n",
    "    \"Worst taste ever, I regret buying this.\",\n",
    "    \"Flavor was bland but texture was nice.\",\n",
    "    \"My favorite snack now, 5 stars.\",\n",
    "    \"Awful, tasted like chemicals.\",\n",
    "    \"Absolutely loved it, can’t wait to order again.\",\n",
    "    \"Couldn’t finish it, very disappointing.\",\n",
    "    \"It’s decent, but I’ve had better.\",\n",
    "    \"The flavor is bold and unique, I love it.\",\n",
    "    \"Super salty, not enjoyable at all.\"\n",
    "])"
   ]
  },
  {
   "cell_type": "markdown",
   "metadata": {},
   "source": [
    "TESTING MANUAL DENGAN FUNCTION"
   ]
  },
  {
   "cell_type": "code",
   "execution_count": 55,
   "metadata": {},
   "outputs": [],
   "source": [
    "# def predict_manual(texts, threshold=THRESH):\n",
    "#     if isinstance(texts, str):\n",
    "#         texts = [texts]\n",
    "#     cleaned = [clean_reviews(t) for t in texts]\n",
    "#     seq = tok_.texts_to_sequences(cleaned)\n",
    "#     pad = pad_sequences(seq, maxlen=max_len, padding=\"post\", truncating=\"post\")\n",
    "#     probs = model.predict(pad, verbose=0).ravel()\n",
    "#     preds = (probs >= threshold).astype(int)\n",
    "#     return pd.DataFrame({\n",
    "#         \"text\": texts,\n",
    "#         \"clean\": cleaned,\n",
    "#         \"score\": probs,\n",
    "#         \"prediksi\": [LABEL_TEXT[int(p)] for p in preds]\n",
    "#     })\n",
    "\n",
    "# predict_manual([])"
   ]
  },
  {
   "cell_type": "markdown",
   "metadata": {},
   "source": [
    "TESTING THE MODEL"
   ]
  },
  {
   "cell_type": "code",
   "execution_count": 60,
   "metadata": {},
   "outputs": [
    {
     "name": "stdout",
     "output_type": "stream",
     "text": [
      "Jumlah data setelah sampling seimbang:\n",
      "label\n",
      "0    10000\n",
      "1    10000\n",
      "Name: count, dtype: int64\n",
      "\n",
      "=== Evaluasi Threshold 0.50 ===\n",
      "Accuracy : 0.825\n",
      "Precision: 0.857\n",
      "Recall   : 0.780\n",
      "F1-score : 0.817\n",
      "\n",
      "=== Evaluasi Threshold 0.75 ===\n",
      "Accuracy : 0.797\n",
      "Precision: 0.931\n",
      "Recall   : 0.642\n",
      "F1-score : 0.760\n",
      "\n",
      "=== Threshold terbaik berdasarkan F1 (subset eval) ===\n",
      "Threshold: 0.30\n",
      "Accuracy : 0.821\n",
      "Precision: 0.791\n",
      "Recall   : 0.873\n",
      "F1-score : 0.830\n"
     ]
    },
    {
     "data": {
      "image/png": "[encoded data removed]",
      "text/plain": [
       "<Figure size 1000x600 with 1 Axes>"
      ]
     },
     "metadata": {},
     "output_type": "display_data"
    },
    {
     "name": "stdout",
     "output_type": "stream",
     "text": [
      "\n",
      "=== Threshold berbasis rata-rata skor per label ===\n",
      "Rata-rata skor negatif = 0.188\n",
      "Rata-rata skor positif = 0.753\n",
      "Threshold (midpoint)   = 0.471\n",
      "Accuracy  = 0.813\n",
      "Precision = 0.972\n",
      "Recall    = 0.805\n",
      "F1-score  = 0.881\n"
     ]
    },
    {
     "data": {
      "image/png": "[encoded data removed]",
      "text/plain": [
       "<Figure size 800x600 with 1 Axes>"
      ]
     },
     "metadata": {},
     "output_type": "display_data"
    }
   ],
   "source": [
    "# ====== IMPORT LIBRARY ======\n",
    "import numpy as np\n",
    "import pandas as pd\n",
    "import matplotlib.pyplot as plt\n",
    "from sklearn.metrics import precision_score, recall_score, f1_score, accuracy_score\n",
    "from sklearn.model_selection import train_test_split\n",
    "from tensorflow.keras.preprocessing.sequence import pad_sequences\n",
    "from tensorflow.keras.models import load_model\n",
    "\n",
    "# ====== KONFIGURASI ======\n",
    "THRESH = 0.75\n",
    "LABEL_TEXT = {0: \"negative\", 1: \"positive\"}\n",
    "MAX_SAMPLES_PER_LABEL = 10000  # contoh limit, bisa diperbesar\n",
    "\n",
    "# asumsikan variabel tok/tokenizer & fungsi clean_reviews sudah ada\n",
    "try:\n",
    "    tok_ = tok\n",
    "except NameError:\n",
    "    tok_ = tokenizer\n",
    "\n",
    "try:\n",
    "    max_len = max_rev_len\n",
    "except NameError:\n",
    "    try:\n",
    "        max_len = max_review_length\n",
    "    except NameError:\n",
    "        max_len = 256  # fallback default\n",
    "\n",
    "# ====== LOAD DATASET ======\n",
    "df = pd.read_csv(\"Reviews.csv\", usecols=[\"Text\", \"Score\"])\n",
    "df = df[df[\"Score\"].between(1, 5)].dropna()\n",
    "df = df.drop_duplicates(subset=[\"Text\", \"Score\"]).reset_index(drop=True)\n",
    "\n",
    "# ====== LABEL BINER ======\n",
    "df[\"label\"] = (df[\"Score\"] >= 3).astype(int)\n",
    "df[\"review\"] = df[\"Text\"]\n",
    "\n",
    "# ====== CLEANING TEKS ======\n",
    "df[\"clean_text\"] = df[\"Text\"].apply(clean_reviews)\n",
    "\n",
    "# ====== SAMPLING SEIMBANG PER LABEL ======\n",
    "balanced_df = (\n",
    "    df.groupby(\"label\", group_keys=False)\n",
    "      .apply(lambda x: x.sample(n=min(MAX_SAMPLES_PER_LABEL, len(x)), random_state=42))\n",
    "      .reset_index(drop=True)\n",
    ")\n",
    "\n",
    "print(\"Jumlah data setelah sampling seimbang:\")\n",
    "print(balanced_df[\"label\"].value_counts())\n",
    "\n",
    "# ====== SPLIT TRAIN/VALIDASI ======\n",
    "X_train, X_val, y_train, y_val = train_test_split(\n",
    "    balanced_df[[\"Text\", \"Score\"]],\n",
    "    balanced_df[\"label\"],\n",
    "    test_size=0.2,\n",
    "    random_state=123,\n",
    "    stratify=balanced_df[\"label\"]\n",
    ")\n",
    "\n",
    "# ====== AMBIL 20% VALIDATION SEBAGAI EVALUASI ======\n",
    "X_eval, _, y_eval, _ = train_test_split(\n",
    "    X_val, y_val,\n",
    "    test_size=0.80,\n",
    "    random_state=123,\n",
    "    stratify=y_val\n",
    ")\n",
    "\n",
    "# ====== TOKENISASI & PADDING ======\n",
    "seqs = tok_.texts_to_sequences(X_eval[\"Text\"])\n",
    "pad_eval = pad_sequences(seqs, maxlen=max_len, padding=\"post\", truncating=\"post\")\n",
    "\n",
    "# ====== PREDIKSI MODEL ======\n",
    "y_prob = model.predict(pad_eval, verbose=0).ravel()\n",
    "\n",
    "# ====== EVALUASI THRESHOLD DEFAULT DAN CUSTOM ======\n",
    "for t in [0.5, THRESH]:\n",
    "    y_pred = (y_prob >= t).astype(int)\n",
    "    print(f\"\\n=== Evaluasi Threshold {t:.2f} ===\")\n",
    "    print(f\"Accuracy : {accuracy_score(y_eval, y_pred):.3f}\")\n",
    "    print(f\"Precision: {precision_score(y_eval, y_pred, zero_division=0):.3f}\")\n",
    "    print(f\"Recall   : {recall_score(y_eval, y_pred):.3f}\")\n",
    "    print(f\"F1-score : {f1_score(y_eval, y_pred):.3f}\")\n",
    "\n",
    "# ====== GRID SEARCH THRESHOLD (0–1) ======\n",
    "thresholds = np.linspace(0, 1, 101)\n",
    "precisions, recalls, f1s, accs = [], [], [], []\n",
    "\n",
    "for t in thresholds:\n",
    "    y_pred_t = (y_prob >= t).astype(int)\n",
    "    precisions.append(precision_score(y_eval, y_pred_t, zero_division=0))\n",
    "    recalls.append(recall_score(y_eval, y_pred_t))\n",
    "    f1s.append(f1_score(y_eval, y_pred_t))\n",
    "    accs.append(accuracy_score(y_eval, y_pred_t))\n",
    "\n",
    "best_idx = np.argmax(f1s)\n",
    "best_thresh = thresholds[best_idx]\n",
    "\n",
    "print(f\"\\n=== Threshold terbaik berdasarkan F1 (subset eval) ===\")\n",
    "print(f\"Threshold: {best_thresh:.2f}\")\n",
    "print(f\"Accuracy : {accs[best_idx]:.3f}\")\n",
    "print(f\"Precision: {precisions[best_idx]:.3f}\")\n",
    "print(f\"Recall   : {recalls[best_idx]:.3f}\")\n",
    "print(f\"F1-score : {f1s[best_idx]:.3f}\")\n",
    "\n",
    "# ====== PLOT KURVA METRIK ======\n",
    "plt.figure(figsize=(10,6))\n",
    "plt.plot(thresholds, precisions, label=\"Precision\", linewidth=2)\n",
    "plt.plot(thresholds, recalls, label=\"Recall\", linewidth=2)\n",
    "plt.plot(thresholds, f1s, label=\"F1-score\", linewidth=2)\n",
    "plt.plot(thresholds, accs, label=\"Accuracy\", linewidth=2)\n",
    "plt.axvline(0.5, color=\"blue\", linestyle=\"--\", label=\"Default Threshold = 0.50\")\n",
    "plt.axvline(THRESH, color=\"green\", linestyle=\"--\", label=f\"Custom Threshold = {THRESH}\")\n",
    "plt.axvline(best_thresh, color=\"red\", linestyle=\"--\", label=f\"Best Threshold (F1) = {best_thresh:.2f}\")\n",
    "plt.xlabel(\"Threshold\")\n",
    "plt.ylabel(\"Score (0–1)\")\n",
    "plt.title(\"Performa Model pada Berbagai Threshold\")\n",
    "plt.legend(loc=\"best\")\n",
    "plt.grid(True, linestyle=\"--\", alpha=0.7)\n",
    "plt.show()\n",
    "\n",
    "# ====== ANALISIS SELURUH DATA ======\n",
    "seqs_all = tok_.texts_to_sequences(df[\"review\"])\n",
    "pad_all = pad_sequences(seqs_all, maxlen=max_len, padding=\"post\", truncating=\"post\")\n",
    "y_all_prob = model.predict(pad_all, verbose=0).ravel()\n",
    "y_all_true = df[\"label\"].values\n",
    "\n",
    "thresholds_full = np.arange(0, 1.01, 0.1)\n",
    "accuracies, precisions, recalls, f1s = [], [], [], []\n",
    "\n",
    "for t in thresholds_full:\n",
    "    y_pred_t = (y_all_prob >= t).astype(int)\n",
    "    accuracies.append(accuracy_score(y_all_true, y_pred_t))\n",
    "    precisions.append(precision_score(y_all_true, y_pred_t, zero_division=0))\n",
    "    recalls.append(recall_score(y_all_true, y_pred_t))\n",
    "    f1s.append(f1_score(y_all_true, y_pred_t))\n",
    "\n",
    "avg_neg = y_all_prob[y_all_true == 0].mean()\n",
    "avg_pos = y_all_prob[y_all_true == 1].mean()\n",
    "best_thresh_label = (avg_neg + avg_pos) / 2\n",
    "\n",
    "y_pred_label = (y_all_prob >= best_thresh_label).astype(int)\n",
    "\n",
    "print(f\"\\n=== Threshold berbasis rata-rata skor per label ===\")\n",
    "print(f\"Rata-rata skor negatif = {avg_neg:.3f}\")\n",
    "print(f\"Rata-rata skor positif = {avg_pos:.3f}\")\n",
    "print(f\"Threshold (midpoint)   = {best_thresh_label:.3f}\")\n",
    "print(f\"Accuracy  = {accuracy_score(y_all_true, y_pred_label):.3f}\")\n",
    "print(f\"Precision = {precision_score(y_all_true, y_pred_label, zero_division=0):.3f}\")\n",
    "print(f\"Recall    = {recall_score(y_all_true, y_pred_label):.3f}\")\n",
    "print(f\"F1-score  = {f1_score(y_all_true, y_pred_label):.3f}\")\n",
    "\n",
    "# Plot distribusi prediksi per label\n",
    "plt.figure(figsize=(8,6))\n",
    "plt.hist(y_all_prob[y_all_true==0], bins=50, alpha=0.6, label=\"Negatif\", density=True)\n",
    "plt.hist(y_all_prob[y_all_true==1], bins=50, alpha=0.6, label=\"Positif\", density=True)\n",
    "plt.axvline(best_thresh_label, color=\"red\", linestyle=\"--\", label=f\"Threshold = {best_thresh_label:.2f}\")\n",
    "plt.xlabel(\"Predicted Probability\")\n",
    "plt.ylabel(\"Density\")\n",
    "plt.title(\"Distribusi Skor Prediksi per Label\")\n",
    "plt.legend()\n",
    "plt.grid(True, linestyle=\"--\", alpha=0.6)\n",
    "plt.show()\n",
    "\n",
    "# ====== FUNGSI PREDIKSI MANUAL ======\n",
    "def predict_manual(texts, threshold=THRESH):\n",
    "    if isinstance(texts, str):\n",
    "        texts = [texts]\n",
    "    cleaned = [clean_reviews(t) for t in texts]\n",
    "    seq = tok_.texts_to_sequences(cleaned)\n",
    "    pad = pad_sequences(seq, maxlen=max_len, padding=\"post\", truncating=\"post\")\n",
    "    probs = model.predict(pad, verbose=0).ravel()\n",
    "    preds = (probs >= threshold).astype(int)\n",
    "    return pd.DataFrame({\n",
    "        \"text\": texts,\n",
    "        \"clean\": cleaned,\n",
    "        \"score\": probs,\n",
    "        \"prediksi\": [LABEL_TEXT[int(p)] for p in preds]\n",
    "    })"
   ]
  }
 ],
 "metadata": {
  "kernelspec": {
   "display_name": "Python 3",
   "language": "python",
   "name": "python3"
  },
  "language_info": {
   "codemirror_mode": {
    "name": "ipython",
    "version": 3
   },
   "file_extension": ".py",
   "mimetype": "text/x-python",
   "name": "python",
   "nbconvert_exporter": "python",
   "pygments_lexer": "ipython3",
   "version": "3.11.7"
  }
 },
 "nbformat": 4,
 "nbformat_minor": 4
}
